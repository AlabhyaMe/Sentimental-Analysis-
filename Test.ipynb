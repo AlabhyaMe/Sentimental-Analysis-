{
 "cells": [
  {
   "cell_type": "code",
   "execution_count": 1,
   "id": "ff451147",
   "metadata": {},
   "outputs": [
    {
     "name": "stdout",
     "output_type": "stream",
     "text": [
      "Processing c:\\users\\meala\\documents\\quick_sentiments\\dist\\quick_sentiments-0.1.0-py3-none-any.whl\n",
      "Requirement already satisfied: polars==1.31.0 in c:\\users\\meala\\anaconda3\\envs\\sentiment_env\\lib\\site-packages (from quick-sentiments==0.1.0) (1.31.0)\n",
      "Requirement already satisfied: scikit-learn==1.7.0 in c:\\users\\meala\\anaconda3\\envs\\sentiment_env\\lib\\site-packages (from quick-sentiments==0.1.0) (1.7.0)\n",
      "Requirement already satisfied: gensim==4.3.0 in c:\\users\\meala\\anaconda3\\envs\\sentiment_env\\lib\\site-packages (from quick-sentiments==0.1.0) (4.3.0)\n",
      "Requirement already satisfied: nltk==3.8.1 in c:\\users\\meala\\anaconda3\\envs\\sentiment_env\\lib\\site-packages (from quick-sentiments==0.1.0) (3.8.1)\n",
      "Requirement already satisfied: xgboost==3.0.2 in c:\\users\\meala\\anaconda3\\envs\\sentiment_env\\lib\\site-packages (from quick-sentiments==0.1.0) (3.0.2)\n",
      "Requirement already satisfied: numpy>=1.18.5 in c:\\users\\meala\\anaconda3\\envs\\sentiment_env\\lib\\site-packages (from gensim==4.3.0->quick-sentiments==0.1.0) (1.24.4)\n",
      "Requirement already satisfied: scipy>=1.7.0 in c:\\users\\meala\\anaconda3\\envs\\sentiment_env\\lib\\site-packages (from gensim==4.3.0->quick-sentiments==0.1.0) (1.10.1)\n",
      "Requirement already satisfied: smart-open>=1.8.1 in c:\\users\\meala\\anaconda3\\envs\\sentiment_env\\lib\\site-packages (from gensim==4.3.0->quick-sentiments==0.1.0) (7.3.0.post1)\n",
      "Requirement already satisfied: FuzzyTM>=0.4.0 in c:\\users\\meala\\anaconda3\\envs\\sentiment_env\\lib\\site-packages (from gensim==4.3.0->quick-sentiments==0.1.0) (2.0.9)\n",
      "Requirement already satisfied: Cython==0.29.32 in c:\\users\\meala\\anaconda3\\envs\\sentiment_env\\lib\\site-packages (from gensim==4.3.0->quick-sentiments==0.1.0) (0.29.32)\n",
      "Requirement already satisfied: click in c:\\users\\meala\\anaconda3\\envs\\sentiment_env\\lib\\site-packages (from nltk==3.8.1->quick-sentiments==0.1.0) (8.2.1)\n",
      "Requirement already satisfied: joblib in c:\\users\\meala\\anaconda3\\envs\\sentiment_env\\lib\\site-packages (from nltk==3.8.1->quick-sentiments==0.1.0) (1.5.1)\n",
      "Requirement already satisfied: regex>=2021.8.3 in c:\\users\\meala\\anaconda3\\envs\\sentiment_env\\lib\\site-packages (from nltk==3.8.1->quick-sentiments==0.1.0) (2024.11.6)\n",
      "Requirement already satisfied: tqdm in c:\\users\\meala\\anaconda3\\envs\\sentiment_env\\lib\\site-packages (from nltk==3.8.1->quick-sentiments==0.1.0) (4.67.1)\n",
      "Requirement already satisfied: threadpoolctl>=3.1.0 in c:\\users\\meala\\anaconda3\\envs\\sentiment_env\\lib\\site-packages (from scikit-learn==1.7.0->quick-sentiments==0.1.0) (3.6.0)\n",
      "Requirement already satisfied: pandas in c:\\users\\meala\\anaconda3\\envs\\sentiment_env\\lib\\site-packages (from FuzzyTM>=0.4.0->gensim==4.3.0->quick-sentiments==0.1.0) (1.5.3)\n",
      "Requirement already satisfied: pyfume in c:\\users\\meala\\anaconda3\\envs\\sentiment_env\\lib\\site-packages (from FuzzyTM>=0.4.0->gensim==4.3.0->quick-sentiments==0.1.0) (0.3.4)\n",
      "Requirement already satisfied: wrapt in c:\\users\\meala\\anaconda3\\envs\\sentiment_env\\lib\\site-packages (from smart-open>=1.8.1->gensim==4.3.0->quick-sentiments==0.1.0) (1.17.2)\n",
      "Requirement already satisfied: colorama in c:\\users\\meala\\anaconda3\\envs\\sentiment_env\\lib\\site-packages (from click->nltk==3.8.1->quick-sentiments==0.1.0) (0.4.6)\n",
      "Requirement already satisfied: python-dateutil>=2.8.1 in c:\\users\\meala\\anaconda3\\envs\\sentiment_env\\lib\\site-packages (from pandas->FuzzyTM>=0.4.0->gensim==4.3.0->quick-sentiments==0.1.0) (2.9.0.post0)\n",
      "Requirement already satisfied: pytz>=2020.1 in c:\\users\\meala\\anaconda3\\envs\\sentiment_env\\lib\\site-packages (from pandas->FuzzyTM>=0.4.0->gensim==4.3.0->quick-sentiments==0.1.0) (2025.2)\n",
      "Requirement already satisfied: six>=1.5 in c:\\users\\meala\\anaconda3\\envs\\sentiment_env\\lib\\site-packages (from python-dateutil>=2.8.1->pandas->FuzzyTM>=0.4.0->gensim==4.3.0->quick-sentiments==0.1.0) (1.17.0)\n",
      "Requirement already satisfied: simpful==2.12.0 in c:\\users\\meala\\anaconda3\\envs\\sentiment_env\\lib\\site-packages (from pyfume->FuzzyTM>=0.4.0->gensim==4.3.0->quick-sentiments==0.1.0) (2.12.0)\n",
      "Requirement already satisfied: fst-pso==1.8.1 in c:\\users\\meala\\anaconda3\\envs\\sentiment_env\\lib\\site-packages (from pyfume->FuzzyTM>=0.4.0->gensim==4.3.0->quick-sentiments==0.1.0) (1.8.1)\n",
      "Requirement already satisfied: miniful in c:\\users\\meala\\anaconda3\\envs\\sentiment_env\\lib\\site-packages (from fst-pso==1.8.1->pyfume->FuzzyTM>=0.4.0->gensim==4.3.0->quick-sentiments==0.1.0) (0.0.6)\n",
      "quick-sentiments is already installed with the same version as the provided wheel. Use --force-reinstall to force an installation of the wheel.\n"
     ]
    }
   ],
   "source": [
    "! pip install dist/quick_sentiments-0.1.0-py3-none-any.whl"
   ]
  },
  {
   "cell_type": "code",
   "execution_count": 13,
   "id": "5251fdba",
   "metadata": {},
   "outputs": [],
   "source": [
    "from quick_sentiments import pre_process\n",
    "from quick_sentiments import run_pipeline\n",
    "from quick_sentiments import make_predictions"
   ]
  },
  {
   "cell_type": "code",
   "execution_count": 3,
   "id": "cb2382d1",
   "metadata": {},
   "outputs": [],
   "source": [
    "import polars as pl"
   ]
  },
  {
   "cell_type": "code",
   "execution_count": 4,
   "id": "f6b9e5d7",
   "metadata": {},
   "outputs": [],
   "source": [
    "df = pl.read_csv(\"quick_sentiments/demo/training_data/train.csv\")"
   ]
  },
  {
   "cell_type": "code",
   "execution_count": 5,
   "id": "fb7c2d83",
   "metadata": {},
   "outputs": [
    {
     "data": {
      "text/html": [
       "<div><style>\n",
       ".dataframe > thead > tr,\n",
       ".dataframe > tbody > tr {\n",
       "  text-align: right;\n",
       "  white-space: pre-wrap;\n",
       "}\n",
       "</style>\n",
       "<small>shape: (5, 5)</small><table border=\"1\" class=\"dataframe\"><thead><tr><th>movieid</th><th>reviewerName</th><th>isFrequentReviewer</th><th>reviewText</th><th>sentiment</th></tr><tr><td>str</td><td>str</td><td>bool</td><td>str</td><td>str</td></tr></thead><tbody><tr><td>&quot;marvelous_pirate&quot;</td><td>&quot;Benjamin Henry&quot;</td><td>false</td><td>&quot;Henry Selick’s first movie sin…</td><td>&quot;POSITIVE&quot;</td></tr><tr><td>&quot;tony_montana_frodo_baggins_v_r…</td><td>&quot;Felicia Lopez&quot;</td><td>false</td><td>&quot;With a cast that reads like th…</td><td>&quot;NEGATIVE&quot;</td></tr><tr><td>&quot;darth_vader_katniss_everdeen_s…</td><td>&quot;Mr. Charles Burgess&quot;</td><td>true</td><td>&quot;Creed II does not give us anyt…</td><td>&quot;POSITIVE&quot;</td></tr><tr><td>&quot;lara_croft_glimmer&quot;</td><td>&quot;Ryan Barrett&quot;</td><td>false</td><td>&quot;I know what you&#x27;re thinking, b…</td><td>&quot;POSITIVE&quot;</td></tr><tr><td>&quot;jason_bourne_surreal_the_termi…</td><td>&quot;Alexander Glover&quot;</td><td>false</td><td>&quot;Director Fernando Meirelles te…</td><td>&quot;POSITIVE&quot;</td></tr></tbody></table></div>"
      ],
      "text/plain": [
       "shape: (5, 5)\n",
       "┌─────────────────────┬─────────────────────┬────────────────────┬─────────────────────┬───────────┐\n",
       "│ movieid             ┆ reviewerName        ┆ isFrequentReviewer ┆ reviewText          ┆ sentiment │\n",
       "│ ---                 ┆ ---                 ┆ ---                ┆ ---                 ┆ ---       │\n",
       "│ str                 ┆ str                 ┆ bool               ┆ str                 ┆ str       │\n",
       "╞═════════════════════╪═════════════════════╪════════════════════╪═════════════════════╪═══════════╡\n",
       "│ marvelous_pirate    ┆ Benjamin Henry      ┆ false              ┆ Henry Selick’s      ┆ POSITIVE  │\n",
       "│                     ┆                     ┆                    ┆ first movie sin…    ┆           │\n",
       "│ tony_montana_frodo_ ┆ Felicia Lopez       ┆ false              ┆ With a cast that    ┆ NEGATIVE  │\n",
       "│ baggins_v_r…        ┆                     ┆                    ┆ reads like th…      ┆           │\n",
       "│ darth_vader_katniss ┆ Mr. Charles Burgess ┆ true               ┆ Creed II does not   ┆ POSITIVE  │\n",
       "│ _everdeen_s…        ┆                     ┆                    ┆ give us anyt…       ┆           │\n",
       "│ lara_croft_glimmer  ┆ Ryan Barrett        ┆ false              ┆ I know what you're  ┆ POSITIVE  │\n",
       "│                     ┆                     ┆                    ┆ thinking, b…        ┆           │\n",
       "│ jason_bourne_surrea ┆ Alexander Glover    ┆ false              ┆ Director Fernando   ┆ POSITIVE  │\n",
       "│ l_the_termi…        ┆                     ┆                    ┆ Meirelles te…       ┆           │\n",
       "└─────────────────────┴─────────────────────┴────────────────────┴─────────────────────┴───────────┘"
      ]
     },
     "execution_count": 5,
     "metadata": {},
     "output_type": "execute_result"
    }
   ],
   "source": [
    "df.head(5)"
   ]
  },
  {
   "cell_type": "code",
   "execution_count": 6,
   "id": "b2b52099",
   "metadata": {},
   "outputs": [
    {
     "data": {
      "text/plain": [
       "'henry selicks first movie since 2009s coraline fifth stopmotion masterpiece'"
      ]
     },
     "execution_count": 6,
     "metadata": {},
     "output_type": "execute_result"
    }
   ],
   "source": [
    "pre_process(df[\"reviewText\"][0])"
   ]
  },
  {
   "cell_type": "code",
   "execution_count": 7,
   "id": "e5aa430f",
   "metadata": {},
   "outputs": [
    {
     "name": "stderr",
     "output_type": "stream",
     "text": [
      "C:\\Users\\meala\\AppData\\Local\\Temp\\ipykernel_14124\\2017856843.py:2: MapWithoutReturnDtypeWarning: Calling `map_elements` without specifying `return_dtype` can lead to unpredictable results. Specify `return_dtype` to silence this warning.\n",
      "  df = df.with_columns(\n"
     ]
    },
    {
     "data": {
      "text/html": [
       "<div><style>\n",
       ".dataframe > thead > tr,\n",
       ".dataframe > tbody > tr {\n",
       "  text-align: right;\n",
       "  white-space: pre-wrap;\n",
       "}\n",
       "</style>\n",
       "<small>shape: (10, 6)</small><table border=\"1\" class=\"dataframe\"><thead><tr><th>movieid</th><th>reviewerName</th><th>isFrequentReviewer</th><th>reviewText</th><th>sentiment</th><th>processed</th></tr><tr><td>str</td><td>str</td><td>bool</td><td>str</td><td>str</td><td>str</td></tr></thead><tbody><tr><td>&quot;majestic_the_chronicles_eclips…</td><td>&quot;Ethan Dean&quot;</td><td>true</td><td>&quot;This threatens to get precious…</td><td>&quot;POSITIVE&quot;</td><td>&quot;threatens get precious time mo…</td></tr><tr><td>&quot;mr._miyagi_holly_golightly&quot;</td><td>&quot;Wendy Johnson&quot;</td><td>true</td><td>&quot;Children will love this. It&#x27;s …</td><td>&quot;POSITIVE&quot;</td><td>&quot;child love classic miyazaki&quot;</td></tr><tr><td>&quot;wonder_ellen_ripley_ellis_redd…</td><td>&quot;Carlos Taylor&quot;</td><td>false</td><td>&quot;There&#x27;s never a dull moment in…</td><td>&quot;POSITIVE&quot;</td><td>&quot;never dull moment gogo&quot;</td></tr><tr><td>&quot;ferris_bueller_evoke_han_solo&quot;</td><td>&quot;Amy Macdonald&quot;</td><td>false</td><td>&quot;I enjoyed this film because I …</td><td>&quot;POSITIVE&quot;</td><td>&quot;enjoyed film took grain salt v…</td></tr><tr><td>&quot;tony_stark_surreal_scarlett_o&#x27;…</td><td>&quot;Daniel Novak DDS&quot;</td><td>false</td><td>&quot;Is deifying such a radical nat…</td><td>&quot;POSITIVE&quot;</td><td>&quot;deifying radical nationalist w…</td></tr><tr><td>&quot;katniss_everdeen_zephyr_termin…</td><td>&quot;Alan Carson&quot;</td><td>true</td><td>&quot;One thing is for sure: Directo…</td><td>&quot;POSITIVE&quot;</td><td>&quot;one thing sure director mia ha…</td></tr><tr><td>&quot;voyage_forrest_gump_emerald&quot;</td><td>&quot;Jose Stephens&quot;</td><td>false</td><td>&quot;The film is a perfect example …</td><td>&quot;NEGATIVE&quot;</td><td>&quot;film perfect example promising…</td></tr><tr><td>&quot;fantastic_the_joker_v_katniss_…</td><td>&quot;Nathan Simpson&quot;</td><td>false</td><td>&quot;Every frame of this film feels…</td><td>&quot;POSITIVE&quot;</td><td>&quot;every frame film feel meticulo…</td></tr><tr><td>&quot;epic_hidden_marty_mcfly&quot;</td><td>&quot;Dana Cole&quot;</td><td>false</td><td>&quot;Scott Cooper&amp;#44; while still …</td><td>&quot;NEGATIVE&quot;</td><td>&quot;scott cooper 44 still adept di…</td></tr><tr><td>&quot;mystique_surreal&quot;</td><td>&quot;Adam Sandoval&quot;</td><td>false</td><td>&quot;It&#x27;s got more style than all t…</td><td>&quot;POSITIVE&quot;</td><td>&quot;got style competitor little mi…</td></tr></tbody></table></div>"
      ],
      "text/plain": [
       "shape: (10, 6)\n",
       "┌─────────────────┬─────────────────┬────────────────┬────────────────┬───────────┬────────────────┐\n",
       "│ movieid         ┆ reviewerName    ┆ isFrequentRevi ┆ reviewText     ┆ sentiment ┆ processed      │\n",
       "│ ---             ┆ ---             ┆ ewer           ┆ ---            ┆ ---       ┆ ---            │\n",
       "│ str             ┆ str             ┆ ---            ┆ str            ┆ str       ┆ str            │\n",
       "│                 ┆                 ┆ bool           ┆                ┆           ┆                │\n",
       "╞═════════════════╪═════════════════╪════════════════╪════════════════╪═══════════╪════════════════╡\n",
       "│ majestic_the_ch ┆ Ethan Dean      ┆ true           ┆ This threatens ┆ POSITIVE  ┆ threatens get  │\n",
       "│ ronicles_eclips ┆                 ┆                ┆ to get         ┆           ┆ precious time  │\n",
       "│ …               ┆                 ┆                ┆ precious…      ┆           ┆ mo…            │\n",
       "│ mr._miyagi_holl ┆ Wendy Johnson   ┆ true           ┆ Children will  ┆ POSITIVE  ┆ child love     │\n",
       "│ y_golightly     ┆                 ┆                ┆ love this.     ┆           ┆ classic        │\n",
       "│                 ┆                 ┆                ┆ It's …         ┆           ┆ miyazaki       │\n",
       "│ wonder_ellen_ri ┆ Carlos Taylor   ┆ false          ┆ There's never  ┆ POSITIVE  ┆ never dull     │\n",
       "│ pley_ellis_redd ┆                 ┆                ┆ a dull moment  ┆           ┆ moment gogo    │\n",
       "│ …               ┆                 ┆                ┆ in…            ┆           ┆                │\n",
       "│ ferris_bueller_ ┆ Amy Macdonald   ┆ false          ┆ I enjoyed this ┆ POSITIVE  ┆ enjoyed film   │\n",
       "│ evoke_han_solo  ┆                 ┆                ┆ film because I ┆           ┆ took grain     │\n",
       "│                 ┆                 ┆                ┆ …              ┆           ┆ salt v…        │\n",
       "│ tony_stark_surr ┆ Daniel Novak    ┆ false          ┆ Is deifying    ┆ POSITIVE  ┆ deifying       │\n",
       "│ eal_scarlett_o' ┆ DDS             ┆                ┆ such a radical ┆           ┆ radical        │\n",
       "│ …               ┆                 ┆                ┆ nat…           ┆           ┆ nationalist w… │\n",
       "│ katniss_everdee ┆ Alan Carson     ┆ true           ┆ One thing is   ┆ POSITIVE  ┆ one thing sure │\n",
       "│ n_zephyr_termin ┆                 ┆                ┆ for sure:      ┆           ┆ director mia   │\n",
       "│ …               ┆                 ┆                ┆ Directo…       ┆           ┆ ha…            │\n",
       "│ voyage_forrest_ ┆ Jose Stephens   ┆ false          ┆ The film is a  ┆ NEGATIVE  ┆ film perfect   │\n",
       "│ gump_emerald    ┆                 ┆                ┆ perfect        ┆           ┆ example        │\n",
       "│                 ┆                 ┆                ┆ example …      ┆           ┆ promising…     │\n",
       "│ fantastic_the_j ┆ Nathan Simpson  ┆ false          ┆ Every frame of ┆ POSITIVE  ┆ every frame    │\n",
       "│ oker_v_katniss_ ┆                 ┆                ┆ this film      ┆           ┆ film feel      │\n",
       "│ …               ┆                 ┆                ┆ feels…         ┆           ┆ meticulo…      │\n",
       "│ epic_hidden_mar ┆ Dana Cole       ┆ false          ┆ Scott          ┆ NEGATIVE  ┆ scott cooper   │\n",
       "│ ty_mcfly        ┆                 ┆                ┆ Cooper&#44;    ┆           ┆ 44 still adept │\n",
       "│                 ┆                 ┆                ┆ while still …  ┆           ┆ di…            │\n",
       "│ mystique_surrea ┆ Adam Sandoval   ┆ false          ┆ It's got more  ┆ POSITIVE  ┆ got style      │\n",
       "│ l               ┆                 ┆                ┆ style than all ┆           ┆ competitor     │\n",
       "│                 ┆                 ┆                ┆ t…             ┆           ┆ little mi…     │\n",
       "└─────────────────┴─────────────────┴────────────────┴────────────────┴───────────┴────────────────┘"
      ]
     },
     "execution_count": 7,
     "metadata": {},
     "output_type": "execute_result"
    }
   ],
   "source": [
    "df = df.sample(fraction=0.1, with_replacement=False)\n",
    "df = df.with_columns(\n",
    "    pl.col(\"reviewText\").map_elements(lambda x: pre_process(x, remove_brackets=True)).alias(\"processed\")  #add inside the map_elements\n",
    ")\n",
    "df.head(10)"
   ]
  },
  {
   "cell_type": "code",
   "execution_count": 8,
   "id": "51982fb4",
   "metadata": {},
   "outputs": [
    {
     "name": "stdout",
     "output_type": "stream",
     "text": [
      "--- Running Pipeline for Bow + Logit ---\n",
      "WARNING: Dropped 646 rows due to missing values (None) in 'reviewText' or 'sentiment' columns. Original rows: 16275, Rows after dropping: 15629\n",
      "Labels encoded: Original -> ['NEGATIVE' 'POSITIVE'], Encoded -> [0 1]\n",
      "1. Vectorizing entire dataset (X)...\n",
      "   - Generating Bag-of-Words features...\n",
      "2. Splitting data into train/test...\n",
      "3. Training and predicting...\n",
      "   - Starting Logistic Regression training with GridSearchCV for hyperparameter tuning...\n",
      "   - Using default parameter grid for tuning: {'solver': ['liblinear', 'lbfgs'], 'C': [0.1, 1.0, 10.0], 'class_weight': [None, 'balanced'], 'max_iter': [500, 1000]}\n",
      "Fitting 5 folds for each of 24 candidates, totalling 120 fits\n",
      "\n",
      "   - Best Hyperparameters found:\n",
      "{'C': 1.0, 'class_weight': 'balanced', 'max_iter': 500, 'solver': 'liblinear'}\n",
      "   - Best Cross-Validation Score (F1-weighted): 0.7558\n",
      "Best model parameters: {'C': 1.0, 'class_weight': 'balanced', 'dual': False, 'fit_intercept': True, 'intercept_scaling': 1, 'l1_ratio': None, 'max_iter': 500, 'multi_class': 'deprecated', 'n_jobs': None, 'penalty': 'l2', 'random_state': 42, 'solver': 'liblinear', 'tol': 0.0001, 'verbose': 0, 'warm_start': False}\n",
      "4. Evaluating model...\n",
      "\n",
      "Classification Report:\n",
      "              precision    recall  f1-score   support\n",
      "\n",
      "    NEGATIVE       0.60      0.64      0.62      1030\n",
      "    POSITIVE       0.82      0.79      0.80      2096\n",
      "\n",
      "    accuracy                           0.74      3126\n",
      "   macro avg       0.71      0.72      0.71      3126\n",
      "weighted avg       0.75      0.74      0.74      3126\n",
      "\n",
      "True labels distribution: Counter({1: 2096, 0: 1030})\n",
      "Predicted labels distribution: Counter({1: 2023, 0: 1103})\n"
     ]
    }
   ],
   "source": [
    "dt= run_pipeline(\n",
    "    vectorizer_name=\"BOW\", # BOW, tf, tfidf, wv\n",
    "    model_name=\"logit\", # logit, rf, XGB .#XGB takes long time, can not recommend using it on normal case\n",
    "    df=df,\n",
    "    text_column_name=\"reviewText\",  # this is the column name of the text data, \n",
    "    sentiment_column_name = \"sentiment\",\n",
    "    perform_tuning = True # make this true if you want to perform hyperparameter tuning, it will take longer time and \n",
    "                            # may run out of memory if the dataset is large,\n",
    ")\n"
   ]
  },
  {
   "cell_type": "code",
   "execution_count": 10,
   "id": "e4781d85",
   "metadata": {},
   "outputs": [
    {
     "name": "stdout",
     "output_type": "stream",
     "text": [
      "(55315, 4)\n",
      "(13828, 4)\n"
     ]
    }
   ],
   "source": [
    "new_data = pl.read_csv(\"quick_sentiments/demo/new_data/test.csv\",encoding='ISO-8859-1') #keep your file here\n",
    "print(new_data.shape)\n",
    "new_data= new_data.sample(fraction=0.25, shuffle=True, seed=42)\n",
    "print(new_data.shape)"
   ]
  },
  {
   "cell_type": "code",
   "execution_count": 12,
   "id": "de82b9b4",
   "metadata": {},
   "outputs": [
    {
     "name": "stderr",
     "output_type": "stream",
     "text": [
      "C:\\Users\\meala\\AppData\\Local\\Temp\\ipykernel_14124\\3805368646.py:1: MapWithoutReturnDtypeWarning: Calling `map_elements` without specifying `return_dtype` can lead to unpredictable results. Specify `return_dtype` to silence this warning.\n",
      "  new_data = new_data.with_columns(\n"
     ]
    },
    {
     "data": {
      "text/html": [
       "<div><style>\n",
       ".dataframe > thead > tr,\n",
       ".dataframe > tbody > tr {\n",
       "  text-align: right;\n",
       "  white-space: pre-wrap;\n",
       "}\n",
       "</style>\n",
       "<small>shape: (10, 5)</small><table border=\"1\" class=\"dataframe\"><thead><tr><th>movieid</th><th>reviewerName</th><th>isTopCritic</th><th>reviewText</th><th>processed</th></tr><tr><td>str</td><td>str</td><td>bool</td><td>str</td><td>str</td></tr></thead><tbody><tr><td>&quot;frodo_baggins_rocky_balboa_she…</td><td>&quot;Toni Vaughn&quot;</td><td>false</td><td>&quot;The result is an unsettling ta…</td><td>&quot;result unsettling tale human p…</td></tr><tr><td>&quot;stardust_john_mcclane&quot;</td><td>&quot;Carol Jennings&quot;</td><td>false</td><td>&quot;Think twice about getting invo…</td><td>&quot;think twice getting involved w…</td></tr><tr><td>&quot;hermione_granger_sherlock_holm…</td><td>&quot;Tara Huang&quot;</td><td>true</td><td>&quot;A film that&#x27;s so bloody wonder…</td><td>&quot;film bloody wonderful meaning …</td></tr><tr><td>&quot;astonish_valiant&quot;</td><td>&quot;Shelley Murillo&quot;</td><td>false</td><td>&quot;...a decent setup that&#x27;s emplo…</td><td>&quot;decent setup employed progress…</td></tr><tr><td>&quot;indiana_jones_dazzling_dorothy…</td><td>&quot;Daniel Bond&quot;</td><td>false</td><td>&quot;Inspiring? Not to me. Lamentab…</td><td>&quot;inspiring lamentably bland exe…</td></tr><tr><td>&quot;glimmer_hannibal_lecter_frodo_…</td><td>&quot;Mrs. Nicole Fleming&quot;</td><td>false</td><td>&quot;This perfectly executed piece …</td><td>&quot;perfectly executed piece movie…</td></tr><tr><td>&quot;brave_anakin_skywalker&quot;</td><td>&quot;Melissa Harrington&quot;</td><td>false</td><td>&quot;The Richard Curtis script has …</td><td>&quot;richard curtis script rooney m…</td></tr><tr><td>&quot;katniss_everdeen_superman&quot;</td><td>&quot;Mckenzie Ortiz&quot;</td><td>false</td><td>&quot;A fun-filled afternoon of dino…</td><td>&quot;funfilled afternoon dinotastic…</td></tr><tr><td>&quot;secret_magic_john_wick_legend&quot;</td><td>&quot;Samantha Ware&quot;</td><td>false</td><td>&quot;I&#x27;m still not sure what this i…</td><td>&quot;still sure supposed save bunch…</td></tr><tr><td>&quot;gandalf_the_grey_magic_wandere…</td><td>&quot;Seth Downs&quot;</td><td>false</td><td>&quot;If the lizard ain&#x27;t broken, do…</td><td>&quot;lizard ai nt broken nt fix&quot;</td></tr></tbody></table></div>"
      ],
      "text/plain": [
       "shape: (10, 5)\n",
       "┌─────────────────────┬────────────────────┬─────────────┬────────────────────┬────────────────────┐\n",
       "│ movieid             ┆ reviewerName       ┆ isTopCritic ┆ reviewText         ┆ processed          │\n",
       "│ ---                 ┆ ---                ┆ ---         ┆ ---                ┆ ---                │\n",
       "│ str                 ┆ str                ┆ bool        ┆ str                ┆ str                │\n",
       "╞═════════════════════╪════════════════════╪═════════════╪════════════════════╪════════════════════╡\n",
       "│ frodo_baggins_rocky ┆ Toni Vaughn        ┆ false       ┆ The result is an   ┆ result unsettling  │\n",
       "│ _balboa_she…        ┆                    ┆             ┆ unsettling ta…     ┆ tale human p…      │\n",
       "│ stardust_john_mccla ┆ Carol Jennings     ┆ false       ┆ Think twice about  ┆ think twice        │\n",
       "│ ne                  ┆                    ┆             ┆ getting invo…      ┆ getting involved   │\n",
       "│                     ┆                    ┆             ┆                    ┆ w…                 │\n",
       "│ hermione_granger_sh ┆ Tara Huang         ┆ true        ┆ A film that's so   ┆ film bloody        │\n",
       "│ erlock_holm…        ┆                    ┆             ┆ bloody wonder…     ┆ wonderful meaning  │\n",
       "│                     ┆                    ┆             ┆                    ┆ …                  │\n",
       "│ astonish_valiant    ┆ Shelley Murillo    ┆ false       ┆ ...a decent setup  ┆ decent setup       │\n",
       "│                     ┆                    ┆             ┆ that's emplo…      ┆ employed progress… │\n",
       "│ indiana_jones_dazzl ┆ Daniel Bond        ┆ false       ┆ Inspiring? Not to  ┆ inspiring          │\n",
       "│ ing_dorothy…        ┆                    ┆             ┆ me. Lamentab…      ┆ lamentably bland   │\n",
       "│                     ┆                    ┆             ┆                    ┆ exe…               │\n",
       "│ glimmer_hannibal_le ┆ Mrs. Nicole        ┆ false       ┆ This perfectly     ┆ perfectly executed │\n",
       "│ cter_frodo_…        ┆ Fleming            ┆             ┆ executed piece …   ┆ piece movie…       │\n",
       "│ brave_anakin_skywal ┆ Melissa Harrington ┆ false       ┆ The Richard Curtis ┆ richard curtis     │\n",
       "│ ker                 ┆                    ┆             ┆ script has …       ┆ script rooney m…   │\n",
       "│ katniss_everdeen_su ┆ Mckenzie Ortiz     ┆ false       ┆ A fun-filled       ┆ funfilled          │\n",
       "│ perman              ┆                    ┆             ┆ afternoon of dino… ┆ afternoon          │\n",
       "│                     ┆                    ┆             ┆                    ┆ dinotastic…        │\n",
       "│ secret_magic_john_w ┆ Samantha Ware      ┆ false       ┆ I'm still not sure ┆ still sure         │\n",
       "│ ick_legend          ┆                    ┆             ┆ what this i…       ┆ supposed save      │\n",
       "│                     ┆                    ┆             ┆                    ┆ bunch…             │\n",
       "│ gandalf_the_grey_ma ┆ Seth Downs         ┆ false       ┆ If the lizard      ┆ lizard ai nt       │\n",
       "│ gic_wandere…        ┆                    ┆             ┆ ain't broken, do…  ┆ broken nt fix      │\n",
       "└─────────────────────┴────────────────────┴─────────────┴────────────────────┴────────────────────┘"
      ]
     },
     "execution_count": 12,
     "metadata": {},
     "output_type": "execute_result"
    }
   ],
   "source": [
    "new_data = new_data.with_columns(\n",
    "    pl.col(\"reviewText\").map_elements(lambda x: pre_process(x, remove_brackets=True)).alias(\"processed\")  #add inside the map_elements\n",
    ")\n",
    "new_data.head(10)"
   ]
  },
  {
   "cell_type": "code",
   "execution_count": 14,
   "id": "d71f0103",
   "metadata": {},
   "outputs": [
    {
     "data": {
      "text/html": [
       "<div><style>\n",
       ".dataframe > thead > tr,\n",
       ".dataframe > tbody > tr {\n",
       "  text-align: right;\n",
       "  white-space: pre-wrap;\n",
       "}\n",
       "</style>\n",
       "<small>shape: (13_181, 6)</small><table border=\"1\" class=\"dataframe\"><thead><tr><th>movieid</th><th>reviewerName</th><th>isTopCritic</th><th>reviewText</th><th>processed</th><th>sentiment_predictions</th></tr><tr><td>str</td><td>str</td><td>bool</td><td>str</td><td>str</td><td>str</td></tr></thead><tbody><tr><td>&quot;frodo_baggins_rocky_balboa_she…</td><td>&quot;Toni Vaughn&quot;</td><td>false</td><td>&quot;The result is an unsettling ta…</td><td>&quot;result unsettling tale human p…</td><td>&quot;POSITIVE&quot;</td></tr><tr><td>&quot;stardust_john_mcclane&quot;</td><td>&quot;Carol Jennings&quot;</td><td>false</td><td>&quot;Think twice about getting invo…</td><td>&quot;think twice getting involved w…</td><td>&quot;POSITIVE&quot;</td></tr><tr><td>&quot;hermione_granger_sherlock_holm…</td><td>&quot;Tara Huang&quot;</td><td>true</td><td>&quot;A film that&#x27;s so bloody wonder…</td><td>&quot;film bloody wonderful meaning …</td><td>&quot;POSITIVE&quot;</td></tr><tr><td>&quot;astonish_valiant&quot;</td><td>&quot;Shelley Murillo&quot;</td><td>false</td><td>&quot;...a decent setup that&#x27;s emplo…</td><td>&quot;decent setup employed progress…</td><td>&quot;NEGATIVE&quot;</td></tr><tr><td>&quot;indiana_jones_dazzling_dorothy…</td><td>&quot;Daniel Bond&quot;</td><td>false</td><td>&quot;Inspiring? Not to me. Lamentab…</td><td>&quot;inspiring lamentably bland exe…</td><td>&quot;NEGATIVE&quot;</td></tr><tr><td>&hellip;</td><td>&hellip;</td><td>&hellip;</td><td>&hellip;</td><td>&hellip;</td><td>&hellip;</td></tr><tr><td>&quot;vivid_intrigue_celestial&quot;</td><td>&quot;Luke Reyes&quot;</td><td>false</td><td>&quot;This is the film&#x27;s ultimate me…</td><td>&quot;film ultimate message nt think…</td><td>&quot;POSITIVE&quot;</td></tr><tr><td>&quot;mystery_lost_james_t._kirk_sta…</td><td>&quot;Kathy Wade&quot;</td><td>false</td><td>&quot;It&#x27;s the best Sondheim adaptat…</td><td>&quot;best sondheim adaptation sayin…</td><td>&quot;POSITIVE&quot;</td></tr><tr><td>&quot;hiccup_terminator_myriad_capta…</td><td>&quot;Troy Watson&quot;</td><td>false</td><td>&quot;The South Australian actor her…</td><td>&quot;south australian actor deliver…</td><td>&quot;POSITIVE&quot;</td></tr><tr><td>&quot;rocky_balboa_dazzling_phantom&quot;</td><td>&quot;Wanda Peterson&quot;</td><td>true</td><td>&quot;Too slight to register as anyt…</td><td>&quot;slight register anything stunt…</td><td>&quot;NEGATIVE&quot;</td></tr><tr><td>&quot;kingdom_adventure_vito_corleon…</td><td>&quot;Gina Powers&quot;</td><td>true</td><td>&quot;Nods to Jack Pierce&#x27;s iconic, …</td><td>&quot;nod jack pierce iconic karloff…</td><td>&quot;POSITIVE&quot;</td></tr></tbody></table></div>"
      ],
      "text/plain": [
       "shape: (13_181, 6)\n",
       "┌────────────────┬────────────────┬─────────────┬────────────────┬────────────────┬────────────────┐\n",
       "│ movieid        ┆ reviewerName   ┆ isTopCritic ┆ reviewText     ┆ processed      ┆ sentiment_pred │\n",
       "│ ---            ┆ ---            ┆ ---         ┆ ---            ┆ ---            ┆ ictions        │\n",
       "│ str            ┆ str            ┆ bool        ┆ str            ┆ str            ┆ ---            │\n",
       "│                ┆                ┆             ┆                ┆                ┆ str            │\n",
       "╞════════════════╪════════════════╪═════════════╪════════════════╪════════════════╪════════════════╡\n",
       "│ frodo_baggins_ ┆ Toni Vaughn    ┆ false       ┆ The result is  ┆ result         ┆ POSITIVE       │\n",
       "│ rocky_balboa_s ┆                ┆             ┆ an unsettling  ┆ unsettling     ┆                │\n",
       "│ he…            ┆                ┆             ┆ ta…            ┆ tale human p…  ┆                │\n",
       "│ stardust_john_ ┆ Carol Jennings ┆ false       ┆ Think twice    ┆ think twice    ┆ POSITIVE       │\n",
       "│ mcclane        ┆                ┆             ┆ about getting  ┆ getting        ┆                │\n",
       "│                ┆                ┆             ┆ invo…          ┆ involved w…    ┆                │\n",
       "│ hermione_grang ┆ Tara Huang     ┆ true        ┆ A film that's  ┆ film bloody    ┆ POSITIVE       │\n",
       "│ er_sherlock_ho ┆                ┆             ┆ so bloody      ┆ wonderful      ┆                │\n",
       "│ lm…            ┆                ┆             ┆ wonder…        ┆ meaning …      ┆                │\n",
       "│ astonish_valia ┆ Shelley        ┆ false       ┆ ...a decent    ┆ decent setup   ┆ NEGATIVE       │\n",
       "│ nt             ┆ Murillo        ┆             ┆ setup that's   ┆ employed       ┆                │\n",
       "│                ┆                ┆             ┆ emplo…         ┆ progress…      ┆                │\n",
       "│ indiana_jones_ ┆ Daniel Bond    ┆ false       ┆ Inspiring? Not ┆ inspiring      ┆ NEGATIVE       │\n",
       "│ dazzling_dorot ┆                ┆             ┆ to me.         ┆ lamentably     ┆                │\n",
       "│ hy…            ┆                ┆             ┆ Lamentab…      ┆ bland exe…     ┆                │\n",
       "│ …              ┆ …              ┆ …           ┆ …              ┆ …              ┆ …              │\n",
       "│ vivid_intrigue ┆ Luke Reyes     ┆ false       ┆ This is the    ┆ film ultimate  ┆ POSITIVE       │\n",
       "│ _celestial     ┆                ┆             ┆ film's         ┆ message nt     ┆                │\n",
       "│                ┆                ┆             ┆ ultimate me…   ┆ think…         ┆                │\n",
       "│ mystery_lost_j ┆ Kathy Wade     ┆ false       ┆ It's the best  ┆ best sondheim  ┆ POSITIVE       │\n",
       "│ ames_t._kirk_s ┆                ┆             ┆ Sondheim       ┆ adaptation     ┆                │\n",
       "│ ta…            ┆                ┆             ┆ adaptat…       ┆ sayin…         ┆                │\n",
       "│ hiccup_termina ┆ Troy Watson    ┆ false       ┆ The South      ┆ south          ┆ POSITIVE       │\n",
       "│ tor_myriad_cap ┆                ┆             ┆ Australian     ┆ australian     ┆                │\n",
       "│ ta…            ┆                ┆             ┆ actor her…     ┆ actor deliver… ┆                │\n",
       "│ rocky_balboa_d ┆ Wanda Peterson ┆ true        ┆ Too slight to  ┆ slight         ┆ NEGATIVE       │\n",
       "│ azzling_phanto ┆                ┆             ┆ register as    ┆ register       ┆                │\n",
       "│ m              ┆                ┆             ┆ anyt…          ┆ anything       ┆                │\n",
       "│                ┆                ┆             ┆                ┆ stunt…         ┆                │\n",
       "│ kingdom_advent ┆ Gina Powers    ┆ true        ┆ Nods to Jack   ┆ nod jack       ┆ POSITIVE       │\n",
       "│ ure_vito_corle ┆                ┆             ┆ Pierce's       ┆ pierce iconic  ┆                │\n",
       "│ on…            ┆                ┆             ┆ iconic, …      ┆ karloff…       ┆                │\n",
       "└────────────────┴────────────────┴─────────────┴────────────────┴────────────────┴────────────────┘"
      ]
     },
     "execution_count": 14,
     "metadata": {},
     "output_type": "execute_result"
    }
   ],
   "source": [
    "make_predictions(\n",
    "    new_data=new_data,\n",
    "    text_column_name=\"processed\",\n",
    "    vectorizer=dt[\"vectorizer_object\"],\n",
    "    best_model=dt[\"model_object\"],\n",
    "    label_encoder=dt[\"label_encoder\"],\n",
    "    prediction_column_name=\"sentiment_predictions\"  # Optional custom name\n",
    ")"
   ]
  }
 ],
 "metadata": {
  "kernelspec": {
   "display_name": "sentiment_env",
   "language": "python",
   "name": "python3"
  },
  "language_info": {
   "codemirror_mode": {
    "name": "ipython",
    "version": 3
   },
   "file_extension": ".py",
   "mimetype": "text/x-python",
   "name": "python",
   "nbconvert_exporter": "python",
   "pygments_lexer": "ipython3",
   "version": "3.10.18"
  }
 },
 "nbformat": 4,
 "nbformat_minor": 5
}
