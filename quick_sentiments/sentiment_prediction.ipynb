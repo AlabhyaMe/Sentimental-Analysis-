{
 "cells": [
  {
   "cell_type": "code",
   "execution_count": null,
   "id": "17dfb99e",
   "metadata": {},
   "outputs": [],
   "source": [
    "#load the packages\n",
    "import polars as pl\n",
    "#make sure that this is the main file\n",
    "import sys\n",
    "import os\n",
    "project_root = os.getcwd()\n",
    "sys.path.insert(0, project_root)\n",
    "# here I have three python script I built to pre_process the data and running the pipeline\n",
    "# you can find the code in the tools/preprocess.py file\n",
    "# you can find  the code in the tools/pipeline.py file\n",
    "# the pre_process function is used to clean the text data, there are various options available, please check the tools/preprocess.py file for details\n",
    "# the run_pipeline function is used to run the sentimental analysis pipeline, it takes the training data and the vectorizer and machine learning methods as input, and returns the results\n",
    "from preprocess import pre_process\n",
    "#this function will run the sentimental analysis in the training data and return the results\n",
    "from pipeline import run_pipeline\n",
    "# this function will run the sentimental analysis in the new data and return the predictions\n",
    "from predict import make_predictions\n"
   ]
  },
  {
   "cell_type": "code",
   "execution_count": null,
   "id": "8273408b",
   "metadata": {},
   "outputs": [],
   "source": [
    "path1 = \"demo/training_data/train.csv\" #giive path to the training data\n",
    "df_train = pl.read_csv(path1, has_header=True, encoding=\"utf8\")"
   ]
  },
  {
   "cell_type": "code",
   "execution_count": null,
   "id": "389c704d",
   "metadata": {},
   "outputs": [],
   "source": [
    "# you can use the pre_process function to clean the text data\n",
    "response_column = \"reviewText\" # feel free to change the column name to your text column name\n",
    "sentiment_column = \"sentiment\" # feel free to change the column name to your label column name"
   ]
  },
  {
   "cell_type": "code",
   "execution_count": null,
   "id": "6e1bb9b7",
   "metadata": {},
   "outputs": [],
   "source": [
    "df_train = df_train.with_columns(\n",
    "    pl.col(response_column).map_elements(lambda x: pre_process(x)).alias(\"processed\")  #add inside the map_elements\n",
    ")"
   ]
  },
  {
   "cell_type": "code",
   "execution_count": null,
   "id": "24f707fb",
   "metadata": {},
   "outputs": [],
   "source": [
    "dt= run_pipeline(\n",
    "    vectorizer_name=\"BOW\", # BOW, tf, tfidf, wv\n",
    "    model_name=\"logit\", # logit, rf, XGB .#XGB takes long time, can not recommend using it on normal case\n",
    "    df=df_train,\n",
    "    text_column_name=\"processed\",  # this is the column name of the text data, \n",
    "    sentiment_column_name = \"sentiment\",\n",
    "    perform_tuning = False # make this true if you want to perform hyperparameter tuning, it will take longer time and \n",
    "                            # may run out of memory if the dataset is large,\n",
    ")"
   ]
  },
  {
   "cell_type": "code",
   "execution_count": null,
   "id": "e70b8408",
   "metadata": {},
   "outputs": [],
   "source": [
    "path2 = \"demo/new_data/test.csv\" #give path to the test data\n",
    "df_test = pl.read_csv(path2, has_header=True, encoding=\"utf8\")"
   ]
  },
  {
   "cell_type": "code",
   "execution_count": null,
   "id": "bd696ac7",
   "metadata": {},
   "outputs": [],
   "source": [
    "new_data = df_test.with_columns(\n",
    "    pl.col(response_column).map_elements(lambda x: pre_process(x, remove_brackets=True)).alias(\"processed\")  #add inside the map_elements\n",
    ")"
   ]
  },
  {
   "cell_type": "code",
   "execution_count": null,
   "id": "6f085ceb",
   "metadata": {},
   "outputs": [],
   "source": [
    "sentiments_prediction= make_predictions(\n",
    "    new_data=new_data,\n",
    "    text_column_name=\"processed\",\n",
    "    vectorizer=dt[\"vectorizer_object\"],\n",
    "    best_model=dt[\"model_object\"],\n",
    "    label_encoder=dt[\"label_encoder\"],\n",
    "    prediction_column_name=\"sentiment_predictions\"  # Optional custom name\n",
    ")"
   ]
  },
  {
   "cell_type": "code",
   "execution_count": null,
   "id": "05bf76a3",
   "metadata": {},
   "outputs": [],
   "source": [
    "# export the predictions to a csv file\n",
    "# missing values in the text data will be removed\n",
    "sentiments_prediction.write_csv(\"demo/new_data/sentiments_prediction.csv\")"
   ]
  }
 ],
 "metadata": {
  "kernelspec": {
   "display_name": "base",
   "language": "python",
   "name": "python3"
  },
  "language_info": {
   "codemirror_mode": {
    "name": "ipython",
    "version": 3
   },
   "file_extension": ".py",
   "mimetype": "text/x-python",
   "name": "python",
   "nbconvert_exporter": "python",
   "pygments_lexer": "ipython3",
   "version": "3.11.7"
  }
 },
 "nbformat": 4,
 "nbformat_minor": 5
}
