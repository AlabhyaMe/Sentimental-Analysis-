{
 "cells": [
  {
   "cell_type": "code",
   "execution_count": null,
   "id": "47e4e8c3",
   "metadata": {},
   "outputs": [
    {
     "name": "stderr",
     "output_type": "stream",
     "text": [
      "UsageError: Line magic function `%` not found.\n"
     ]
    }
   ],
   "source": [
    " twine upload --repository testpypi dist/*"
   ]
  },
  {
   "cell_type": "code",
   "execution_count": 4,
   "id": "49a924c8",
   "metadata": {},
   "outputs": [
    {
     "name": "stdout",
     "output_type": "stream",
     "text": [
      "Requirement already satisfied: twine in c:\\users\\meala\\anaconda3\\lib\\site-packages (6.1.0)\n",
      "Requirement already satisfied: readme-renderer>=35.0 in c:\\users\\meala\\anaconda3\\lib\\site-packages (from twine) (44.0)\n",
      "Requirement already satisfied: requests>=2.20 in c:\\users\\meala\\anaconda3\\lib\\site-packages (from twine) (2.32.3)\n",
      "Requirement already satisfied: requests-toolbelt!=0.9.0,>=0.8.0 in c:\\users\\meala\\anaconda3\\lib\\site-packages (from twine) (1.0.0)\n",
      "Requirement already satisfied: urllib3>=1.26.0 in c:\\users\\meala\\anaconda3\\lib\\site-packages (from twine) (2.0.7)\n",
      "Requirement already satisfied: keyring>=15.1 in c:\\users\\meala\\anaconda3\\lib\\site-packages (from twine) (23.13.1)\n",
      "Requirement already satisfied: rfc3986>=1.4.0 in c:\\users\\meala\\anaconda3\\lib\\site-packages (from twine) (2.0.0)\n",
      "Requirement already satisfied: rich>=12.0.0 in c:\\users\\meala\\anaconda3\\lib\\site-packages (from twine) (13.3.5)\n",
      "Requirement already satisfied: packaging>=24.0 in c:\\users\\meala\\anaconda3\\lib\\site-packages (from twine) (25.0)\n",
      "Requirement already satisfied: id in c:\\users\\meala\\anaconda3\\lib\\site-packages (from twine) (1.5.0)\n",
      "Requirement already satisfied: jaraco.classes in c:\\users\\meala\\anaconda3\\lib\\site-packages (from keyring>=15.1->twine) (3.2.1)\n",
      "Requirement already satisfied: importlib-metadata>=4.11.4 in c:\\users\\meala\\anaconda3\\lib\\site-packages (from keyring>=15.1->twine) (7.0.1)\n",
      "Requirement already satisfied: pywin32-ctypes>=0.2.0 in c:\\users\\meala\\anaconda3\\lib\\site-packages (from keyring>=15.1->twine) (0.2.0)\n",
      "Requirement already satisfied: nh3>=0.2.14 in c:\\users\\meala\\anaconda3\\lib\\site-packages (from readme-renderer>=35.0->twine) (0.3.0)\n",
      "Requirement already satisfied: docutils>=0.21.2 in c:\\users\\meala\\anaconda3\\lib\\site-packages (from readme-renderer>=35.0->twine) (0.21.2)\n",
      "Requirement already satisfied: Pygments>=2.5.1 in c:\\users\\meala\\anaconda3\\lib\\site-packages (from readme-renderer>=35.0->twine) (2.15.1)\n",
      "Requirement already satisfied: charset-normalizer<4,>=2 in c:\\users\\meala\\anaconda3\\lib\\site-packages (from requests>=2.20->twine) (2.0.4)\n",
      "Requirement already satisfied: idna<4,>=2.5 in c:\\users\\meala\\anaconda3\\lib\\site-packages (from requests>=2.20->twine) (3.4)\n",
      "Requirement already satisfied: certifi>=2017.4.17 in c:\\users\\meala\\anaconda3\\lib\\site-packages (from requests>=2.20->twine) (2025.7.14)\n",
      "Requirement already satisfied: markdown-it-py<3.0.0,>=2.2.0 in c:\\users\\meala\\anaconda3\\lib\\site-packages (from rich>=12.0.0->twine) (2.2.0)\n",
      "Requirement already satisfied: zipp>=0.5 in c:\\users\\meala\\anaconda3\\lib\\site-packages (from importlib-metadata>=4.11.4->keyring>=15.1->twine) (3.17.0)\n",
      "Requirement already satisfied: mdurl~=0.1 in c:\\users\\meala\\anaconda3\\lib\\site-packages (from markdown-it-py<3.0.0,>=2.2.0->rich>=12.0.0->twine) (0.1.0)\n",
      "Requirement already satisfied: more-itertools in c:\\users\\meala\\anaconda3\\lib\\site-packages (from jaraco.classes->keyring>=15.1->twine) (10.1.0)\n",
      "ERROR    InvalidDistribution: Cannot find file (or expand pattern): 'dist/*'   \n"
     ]
    }
   ],
   "source": [
    "# First, ensure twine is installed in your notebook's kernel environment\n",
    "!pip install twine\n",
    "\n",
    "# Next, set environment variables for your username and password.\n",
    "# IMPORTANT: Replace 'YOUR_TESTPYPI_API_TOKEN' with the actual token you copied.\n",
    "# NEVER hardcode sensitive information directly in a notebook that you share publicly.\n",
    "# For a real project, use environment variables outside the notebook or a secure credential manager.\n",
    "import os\n",
    "os.environ['TWINE_USERNAME'] = '__token__' # This is always '__token__' for API tokens\n",
    "os.environ['TWINE_PASSWORD'] = 'pypi-AgENdGVzdC5weXBpLm9yZwIkZTFkMWFmNDgtYWM3Zi00YjI1LTkzOTEtNTAxMTFmNDBkNDkwAAIqWzMsIjY5MmI0NTk1LTFlOTEtNDQ5Zi04YzlkLTY0MWI0N2U2YzU0ZiJdAAAGIOdyHcSpn9uypBZLVc4uruPNiZTrY8cG18e0eFMXRUMY' # PASTE YOUR TOKEN HERE!\n",
    "\n",
    "# Now, upload using twine.\n",
    "# The `dist/*` will upload all files in the dist directory.\n",
    "# This command uses the environment variables we just set.\n",
    "!twine upload --repository testpypi dist/*\n",
    "\n"
   ]
  }
 ],
 "metadata": {
  "kernelspec": {
   "display_name": "base",
   "language": "python",
   "name": "python3"
  },
  "language_info": {
   "codemirror_mode": {
    "name": "ipython",
    "version": 3
   },
   "file_extension": ".py",
   "mimetype": "text/x-python",
   "name": "python",
   "nbconvert_exporter": "python",
   "pygments_lexer": "ipython3",
   "version": "3.11.7"
  }
 },
 "nbformat": 4,
 "nbformat_minor": 5
}
