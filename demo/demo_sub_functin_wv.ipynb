{
 "cells": [
  {
   "cell_type": "code",
   "execution_count": 1,
   "id": "9af7f3b2",
   "metadata": {},
   "outputs": [
    {
     "data": {
      "text/html": [
       "<div><style>\n",
       ".dataframe > thead > tr,\n",
       ".dataframe > tbody > tr {\n",
       "  text-align: right;\n",
       "  white-space: pre-wrap;\n",
       "}\n",
       "</style>\n",
       "<small>shape: (5, 5)</small><table border=\"1\" class=\"dataframe\"><thead><tr><th>movieid</th><th>reviewerName</th><th>isFrequentReviewer</th><th>reviewText</th><th>sentiment</th></tr><tr><td>str</td><td>str</td><td>bool</td><td>str</td><td>str</td></tr></thead><tbody><tr><td>&quot;marvelous_pira…</td><td>&quot;Benjamin Henry…</td><td>false</td><td>&quot;Henry Selick’s…</td><td>&quot;POSITIVE&quot;</td></tr><tr><td>&quot;tony_montana_f…</td><td>&quot;Felicia Lopez&quot;</td><td>false</td><td>&quot;With a cast th…</td><td>&quot;NEGATIVE&quot;</td></tr><tr><td>&quot;darth_vader_ka…</td><td>&quot;Mr. Charles Bu…</td><td>true</td><td>&quot;Creed II does …</td><td>&quot;POSITIVE&quot;</td></tr><tr><td>&quot;lara_croft_gli…</td><td>&quot;Ryan Barrett&quot;</td><td>false</td><td>&quot;I know what yo…</td><td>&quot;POSITIVE&quot;</td></tr><tr><td>&quot;jason_bourne_s…</td><td>&quot;Alexander Glov…</td><td>false</td><td>&quot;Director Ferna…</td><td>&quot;POSITIVE&quot;</td></tr></tbody></table></div>"
      ],
      "text/plain": [
       "shape: (5, 5)\n",
       "┌─────────────────────┬─────────────────────┬────────────────────┬─────────────────────┬───────────┐\n",
       "│ movieid             ┆ reviewerName        ┆ isFrequentReviewer ┆ reviewText          ┆ sentiment │\n",
       "│ ---                 ┆ ---                 ┆ ---                ┆ ---                 ┆ ---       │\n",
       "│ str                 ┆ str                 ┆ bool               ┆ str                 ┆ str       │\n",
       "╞═════════════════════╪═════════════════════╪════════════════════╪═════════════════════╪═══════════╡\n",
       "│ marvelous_pirate    ┆ Benjamin Henry      ┆ false              ┆ Henry Selick’s      ┆ POSITIVE  │\n",
       "│                     ┆                     ┆                    ┆ first movie since…  ┆           │\n",
       "│ tony_montana_frodo_ ┆ Felicia Lopez       ┆ false              ┆ With a cast that    ┆ NEGATIVE  │\n",
       "│ baggins_v_roc…      ┆                     ┆                    ┆ reads like the …    ┆           │\n",
       "│ darth_vader_katniss ┆ Mr. Charles Burgess ┆ true               ┆ Creed II does not   ┆ POSITIVE  │\n",
       "│ _everdeen_sor…      ┆                     ┆                    ┆ give us anythi…     ┆           │\n",
       "│ lara_croft_glimmer  ┆ Ryan Barrett        ┆ false              ┆ I know what you're  ┆ POSITIVE  │\n",
       "│                     ┆                     ┆                    ┆ thinking, but…      ┆           │\n",
       "│ jason_bourne_surrea ┆ Alexander Glover    ┆ false              ┆ Director Fernando   ┆ POSITIVE  │\n",
       "│ l_the_termina…      ┆                     ┆                    ┆ Meirelles tell…     ┆           │\n",
       "└─────────────────────┴─────────────────────┴────────────────────┴─────────────────────┴───────────┘"
      ]
     },
     "execution_count": 1,
     "metadata": {},
     "output_type": "execute_result"
    }
   ],
   "source": [
    "import polars as pl\n",
    "df = pl.read_csv(\"training_data/train.csv\", encoding=\"utf-8\")\n",
    "df.head()"
   ]
  },
  {
   "cell_type": "code",
   "execution_count": 2,
   "id": "ea09fb6f",
   "metadata": {},
   "outputs": [
    {
     "name": "stdout",
     "output_type": "stream",
     "text": [
      "NLTK data 'punkt' already present.\n",
      "NLTK data 'stopwords' already present.\n",
      "Downloading NLTK data: wordnet...\n"
     ]
    },
    {
     "name": "stderr",
     "output_type": "stream",
     "text": [
      "[nltk_data] Downloading package wordnet to\n",
      "[nltk_data]     C:\\Users\\meala\\AppData\\Roaming\\nltk_data...\n",
      "[nltk_data]   Package wordnet is already up-to-date!\n",
      "[nltk_data] Downloading package omw-1.4 to\n",
      "[nltk_data]     C:\\Users\\meala\\AppData\\Roaming\\nltk_data...\n",
      "[nltk_data]   Package omw-1.4 is already up-to-date!\n"
     ]
    },
    {
     "name": "stdout",
     "output_type": "stream",
     "text": [
      "NLTK data 'wordnet' downloaded.\n",
      "Downloading NLTK data: omw-1.4...\n",
      "NLTK data 'omw-1.4' downloaded.\n"
     ]
    }
   ],
   "source": [
    "from quick_sentiments import pre_process\n",
    "from quick_sentiments.vect.wv import vectorize"
   ]
  },
  {
   "cell_type": "markdown",
   "id": "43297779",
   "metadata": {},
   "source": [
    "### Word Embedding, Word2Vec\n",
    "We are using Word2Vec for word embedding, which is a popular technique to convert words into numerical vectors. This allows us to capture semantic relationships between words. Word2Vec assigns 300 dimensions to each word, which means each word is represented by a vector of 300 numbers. The sentence is then represented by the average of these word vectors.\n",
    "\n",
    "While there are other dimension of word2vec, we are using 300 dimensions here for simplicity and effectiveness. Further updates in this packages will allow you to choose different dimensions."
   ]
  },
  {
   "cell_type": "code",
   "execution_count": 3,
   "id": "eb994751",
   "metadata": {},
   "outputs": [
    {
     "data": {
      "text/plain": [
       "['henry selicks first movie since 2009s coraline fifth stopmotion masterpiece',\n",
       " 'cast read like vogue oscar party guest list valentine day cantmiss cinema instead standard hollywood schmaltz',\n",
       " 'creed ii give u anything another slightly superior rocky sequel win point nt expect knockout',\n",
       " 'know thinking limitless bradley cooper cell multiply lucy tap brain new thrillsnew skill passing hour',\n",
       " 'director fernando meirelles tell story urgency sharp visual composition washed cinematography ooze gangster life']"
      ]
     },
     "execution_count": 3,
     "metadata": {},
     "output_type": "execute_result"
    }
   ],
   "source": [
    "wv_demo =[pre_process(text) for text in df[\"reviewText\"][:5]]\n",
    "wv_demo"
   ]
  },
  {
   "cell_type": "code",
   "execution_count": 6,
   "id": "9ac593d2",
   "metadata": {},
   "outputs": [
    {
     "name": "stdout",
     "output_type": "stream",
     "text": [
      "Using already loaded Word2Vec model.\n"
     ]
    }
   ],
   "source": [
    "wv_df, vect = vectorize(wv_demo)"
   ]
  },
  {
   "cell_type": "markdown",
   "id": "2dbde4e5",
   "metadata": {},
   "source": [
    "Unlike Bag of Words (BOW) or Term Frequency-Inverse Document Frequency (TF-IDF), which treat words as independent entities, Word2Vec captures the context and meaning of words based on their usage in sentences. This makes it particularly useful for tasks like sentiment analysis, where understanding the nuances of language is crucial.The columns are always fixed at 300, and every columns has some values.\n",
    "\n",
    "Words like (King, Queen, and Royalty), (Football, Scoccer, Real Madrid ) will have similar vectors because they are related in meaning. This is different from BOW or TF-IDF, where these words would be treated as completely separate entities without any relationship."
   ]
  },
  {
   "cell_type": "code",
   "execution_count": 10,
   "id": "a0fbbb92",
   "metadata": {},
   "outputs": [
    {
     "data": {
      "text/html": [
       "<div><style>\n",
       ".dataframe > thead > tr,\n",
       ".dataframe > tbody > tr {\n",
       "  text-align: right;\n",
       "  white-space: pre-wrap;\n",
       "}\n",
       "</style>\n",
       "<small>shape: (5, 300)</small><table border=\"1\" class=\"dataframe\"><thead><tr><th>column_0</th><th>column_1</th><th>column_2</th><th>column_3</th><th>column_4</th><th>column_5</th><th>column_6</th><th>column_7</th><th>column_8</th><th>column_9</th><th>column_10</th><th>column_11</th><th>column_12</th><th>column_13</th><th>column_14</th><th>column_15</th><th>column_16</th><th>column_17</th><th>column_18</th><th>column_19</th><th>column_20</th><th>column_21</th><th>column_22</th><th>column_23</th><th>column_24</th><th>column_25</th><th>column_26</th><th>column_27</th><th>column_28</th><th>column_29</th><th>column_30</th><th>column_31</th><th>column_32</th><th>column_33</th><th>column_34</th><th>column_35</th><th>column_36</th><th>&hellip;</th><th>column_263</th><th>column_264</th><th>column_265</th><th>column_266</th><th>column_267</th><th>column_268</th><th>column_269</th><th>column_270</th><th>column_271</th><th>column_272</th><th>column_273</th><th>column_274</th><th>column_275</th><th>column_276</th><th>column_277</th><th>column_278</th><th>column_279</th><th>column_280</th><th>column_281</th><th>column_282</th><th>column_283</th><th>column_284</th><th>column_285</th><th>column_286</th><th>column_287</th><th>column_288</th><th>column_289</th><th>column_290</th><th>column_291</th><th>column_292</th><th>column_293</th><th>column_294</th><th>column_295</th><th>column_296</th><th>column_297</th><th>column_298</th><th>column_299</th></tr><tr><td>f32</td><td>f32</td><td>f32</td><td>f32</td><td>f32</td><td>f32</td><td>f32</td><td>f32</td><td>f32</td><td>f32</td><td>f32</td><td>f32</td><td>f32</td><td>f32</td><td>f32</td><td>f32</td><td>f32</td><td>f32</td><td>f32</td><td>f32</td><td>f32</td><td>f32</td><td>f32</td><td>f32</td><td>f32</td><td>f32</td><td>f32</td><td>f32</td><td>f32</td><td>f32</td><td>f32</td><td>f32</td><td>f32</td><td>f32</td><td>f32</td><td>f32</td><td>f32</td><td>&hellip;</td><td>f32</td><td>f32</td><td>f32</td><td>f32</td><td>f32</td><td>f32</td><td>f32</td><td>f32</td><td>f32</td><td>f32</td><td>f32</td><td>f32</td><td>f32</td><td>f32</td><td>f32</td><td>f32</td><td>f32</td><td>f32</td><td>f32</td><td>f32</td><td>f32</td><td>f32</td><td>f32</td><td>f32</td><td>f32</td><td>f32</td><td>f32</td><td>f32</td><td>f32</td><td>f32</td><td>f32</td><td>f32</td><td>f32</td><td>f32</td><td>f32</td><td>f32</td><td>f32</td></tr></thead><tbody><tr><td>0.121811</td><td>-0.063228</td><td>0.02774</td><td>0.147257</td><td>0.028666</td><td>-0.044922</td><td>-0.053426</td><td>-0.106771</td><td>0.161702</td><td>0.103353</td><td>-0.032267</td><td>-0.192586</td><td>0.001648</td><td>-0.00531</td><td>-0.038111</td><td>0.022776</td><td>0.100484</td><td>-0.00297</td><td>0.031464</td><td>-0.113098</td><td>-0.091064</td><td>0.036326</td><td>0.047241</td><td>-0.08311</td><td>0.019307</td><td>-0.006526</td><td>-0.02537</td><td>0.041056</td><td>0.070719</td><td>0.07988</td><td>-0.105143</td><td>0.015381</td><td>-0.077037</td><td>0.026245</td><td>0.062622</td><td>0.021006</td><td>-0.035492</td><td>&hellip;</td><td>-0.016432</td><td>0.039754</td><td>0.080495</td><td>-0.035461</td><td>-0.100342</td><td>-0.088338</td><td>0.048581</td><td>0.017581</td><td>0.043493</td><td>0.06722</td><td>0.0097</td><td>0.031453</td><td>-0.019002</td><td>-0.129557</td><td>-0.099935</td><td>-0.113851</td><td>-0.009511</td><td>0.013346</td><td>0.050293</td><td>-0.011739</td><td>0.118123</td><td>-0.037679</td><td>-0.036133</td><td>-0.01652</td><td>0.031631</td><td>-0.018026</td><td>0.061605</td><td>-0.186239</td><td>0.04835</td><td>-0.07312</td><td>0.075785</td><td>-0.037577</td><td>-0.118449</td><td>-0.205892</td><td>-0.079191</td><td>-0.041555</td><td>-0.018717</td></tr><tr><td>-0.046672</td><td>0.03339</td><td>-0.029568</td><td>0.18689</td><td>-0.002755</td><td>0.033523</td><td>0.04598</td><td>-0.068477</td><td>0.0368</td><td>0.074364</td><td>-0.05592</td><td>-0.124597</td><td>0.003141</td><td>0.041557</td><td>-0.089038</td><td>0.163417</td><td>0.143962</td><td>0.010482</td><td>-0.01522</td><td>-0.116463</td><td>0.042025</td><td>0.075116</td><td>-0.030497</td><td>-0.024801</td><td>0.030888</td><td>-0.044602</td><td>-0.004003</td><td>0.047009</td><td>0.06272</td><td>-0.046235</td><td>-0.072567</td><td>-0.031584</td><td>-0.041561</td><td>0.051648</td><td>0.013696</td><td>-0.040101</td><td>0.117185</td><td>&hellip;</td><td>-0.108919</td><td>0.065291</td><td>-0.001408</td><td>-0.060986</td><td>-0.024573</td><td>-0.087297</td><td>-0.082209</td><td>-0.024237</td><td>-0.013215</td><td>0.075195</td><td>-0.003981</td><td>0.107926</td><td>-0.032943</td><td>-0.001843</td><td>-0.064366</td><td>-0.094613</td><td>0.056836</td><td>-0.001318</td><td>-0.006489</td><td>-0.063053</td><td>0.021016</td><td>0.018457</td><td>0.066636</td><td>-0.053204</td><td>-0.019059</td><td>0.029329</td><td>0.082474</td><td>-0.019424</td><td>0.029386</td><td>-0.108862</td><td>0.006136</td><td>0.044279</td><td>-0.103255</td><td>-0.001807</td><td>-0.004173</td><td>-0.057788</td><td>0.110409</td></tr><tr><td>-0.001188</td><td>0.004293</td><td>0.054455</td><td>0.10249</td><td>-0.042594</td><td>0.01414</td><td>0.059619</td><td>-0.113798</td><td>0.071501</td><td>0.096033</td><td>-0.073017</td><td>-0.10592</td><td>-0.063818</td><td>0.070465</td><td>-0.07675</td><td>0.140513</td><td>0.050948</td><td>0.065393</td><td>0.033622</td><td>-0.069922</td><td>-0.05755</td><td>0.032113</td><td>0.11259</td><td>-0.077096</td><td>0.02085</td><td>-0.065792</td><td>-0.086735</td><td>0.013055</td><td>0.051172</td><td>0.042586</td><td>-0.055257</td><td>-0.000372</td><td>-0.037606</td><td>-0.038314</td><td>-0.060124</td><td>0.11096</td><td>-0.030509</td><td>&hellip;</td><td>0.058508</td><td>0.067041</td><td>0.108415</td><td>-0.004814</td><td>-0.102637</td><td>-0.069991</td><td>-0.054533</td><td>0.057369</td><td>0.055971</td><td>0.084781</td><td>-0.028939</td><td>0.013509</td><td>0.022534</td><td>-0.067741</td><td>-0.086218</td><td>-0.052922</td><td>0.083161</td><td>-0.002106</td><td>0.024951</td><td>0.013102</td><td>0.04292</td><td>0.0125</td><td>0.00423</td><td>0.002537</td><td>0.004026</td><td>-0.056613</td><td>-0.001624</td><td>-0.000343</td><td>0.073832</td><td>-0.089646</td><td>-0.010278</td><td>-0.018433</td><td>-0.050814</td><td>-0.043254</td><td>-0.137549</td><td>-0.01383</td><td>0.011507</td></tr><tr><td>-0.013966</td><td>0.055578</td><td>-0.022818</td><td>0.101641</td><td>-0.077794</td><td>0.045044</td><td>0.013499</td><td>-0.129216</td><td>0.024423</td><td>0.076974</td><td>-0.040196</td><td>-0.071023</td><td>-0.035823</td><td>-0.019283</td><td>-0.091612</td><td>0.086269</td><td>-0.042899</td><td>0.229213</td><td>0.007586</td><td>-0.059893</td><td>-0.028107</td><td>-0.005167</td><td>-0.035444</td><td>0.048453</td><td>-0.020874</td><td>0.005092</td><td>-0.078683</td><td>0.012669</td><td>0.045115</td><td>-0.024879</td><td>-0.05808</td><td>0.02291</td><td>-0.057059</td><td>0.029672</td><td>-0.074772</td><td>-0.054265</td><td>-0.022736</td><td>&hellip;</td><td>0.026635</td><td>-0.032532</td><td>0.075799</td><td>0.018258</td><td>-0.05161</td><td>-0.086042</td><td>-0.005598</td><td>-0.085528</td><td>0.071368</td><td>0.056502</td><td>0.006627</td><td>0.064139</td><td>-0.022252</td><td>-0.059239</td><td>-0.046092</td><td>-0.030562</td><td>0.096366</td><td>0.011032</td><td>0.071764</td><td>0.062884</td><td>-0.026697</td><td>0.003501</td><td>-0.005977</td><td>-0.045013</td><td>0.026124</td><td>0.146624</td><td>0.146803</td><td>0.062622</td><td>0.084211</td><td>-0.075858</td><td>-0.063703</td><td>-0.138733</td><td>-0.12364</td><td>0.004508</td><td>-0.058173</td><td>-0.073382</td><td>0.052028</td></tr><tr><td>0.070343</td><td>-0.000009</td><td>0.028959</td><td>-0.007155</td><td>-0.039034</td><td>0.075545</td><td>0.081604</td><td>-0.082651</td><td>0.063308</td><td>0.026639</td><td>-0.008204</td><td>-0.129202</td><td>-0.036457</td><td>0.077956</td><td>-0.140738</td><td>0.042962</td><td>0.105694</td><td>0.113356</td><td>-0.075205</td><td>-0.167887</td><td>-0.072838</td><td>0.029013</td><td>0.068923</td><td>0.004545</td><td>0.035861</td><td>-0.110715</td><td>0.024132</td><td>0.006442</td><td>0.033403</td><td>0.055627</td><td>-0.166119</td><td>0.056227</td><td>0.001632</td><td>0.025729</td><td>-0.01925</td><td>-0.041626</td><td>0.012357</td><td>&hellip;</td><td>-0.108844</td><td>0.024674</td><td>0.133601</td><td>-0.045626</td><td>-0.0959</td><td>-0.022846</td><td>-0.059265</td><td>0.022644</td><td>0.009315</td><td>0.006427</td><td>0.059394</td><td>0.087266</td><td>-0.027601</td><td>-0.089961</td><td>-0.024022</td><td>-0.072068</td><td>0.036677</td><td>-0.030104</td><td>-0.081609</td><td>0.073824</td><td>0.047772</td><td>0.02848</td><td>0.04768</td><td>-0.066801</td><td>0.055908</td><td>0.03725</td><td>0.091069</td><td>-0.214863</td><td>0.021813</td><td>-0.102483</td><td>-0.018038</td><td>-0.027968</td><td>0.001423</td><td>0.013562</td><td>-0.129864</td><td>0.058246</td><td>0.023031</td></tr></tbody></table></div>"
      ],
      "text/plain": [
       "shape: (5, 300)\n",
       "┌───────────┬───────────┬───────────┬───────────┬───┬───────────┬───────────┬───────────┬──────────┐\n",
       "│ column_0  ┆ column_1  ┆ column_2  ┆ column_3  ┆ … ┆ column_29 ┆ column_29 ┆ column_29 ┆ column_2 │\n",
       "│ ---       ┆ ---       ┆ ---       ┆ ---       ┆   ┆ 6         ┆ 7         ┆ 8         ┆ 99       │\n",
       "│ f32       ┆ f32       ┆ f32       ┆ f32       ┆   ┆ ---       ┆ ---       ┆ ---       ┆ ---      │\n",
       "│           ┆           ┆           ┆           ┆   ┆ f32       ┆ f32       ┆ f32       ┆ f32      │\n",
       "╞═══════════╪═══════════╪═══════════╪═══════════╪═══╪═══════════╪═══════════╪═══════════╪══════════╡\n",
       "│ 0.121811  ┆ -0.063228 ┆ 0.02774   ┆ 0.147257  ┆ … ┆ -0.205892 ┆ -0.079191 ┆ -0.041555 ┆ -0.01871 │\n",
       "│           ┆           ┆           ┆           ┆   ┆           ┆           ┆           ┆ 7        │\n",
       "│ -0.046672 ┆ 0.03339   ┆ -0.029568 ┆ 0.18689   ┆ … ┆ -0.001807 ┆ -0.004173 ┆ -0.057788 ┆ 0.110409 │\n",
       "│ -0.001188 ┆ 0.004293  ┆ 0.054455  ┆ 0.10249   ┆ … ┆ -0.043254 ┆ -0.137549 ┆ -0.01383  ┆ 0.011507 │\n",
       "│ -0.013966 ┆ 0.055578  ┆ -0.022818 ┆ 0.101641  ┆ … ┆ 0.004508  ┆ -0.058173 ┆ -0.073382 ┆ 0.052028 │\n",
       "│ 0.070343  ┆ -0.000009 ┆ 0.028959  ┆ -0.007155 ┆ … ┆ 0.013562  ┆ -0.129864 ┆ 0.058246  ┆ 0.023031 │\n",
       "└───────────┴───────────┴───────────┴───────────┴───┴───────────┴───────────┴───────────┴──────────┘"
      ]
     },
     "execution_count": 10,
     "metadata": {},
     "output_type": "execute_result"
    }
   ],
   "source": [
    "pl.DataFrame(wv_df)\n"
   ]
  },
  {
   "cell_type": "code",
   "execution_count": null,
   "id": "a671cba2",
   "metadata": {},
   "outputs": [],
   "source": []
  }
 ],
 "metadata": {
  "kernelspec": {
   "display_name": "quick_sentiments",
   "language": "python",
   "name": "python3"
  },
  "language_info": {
   "codemirror_mode": {
    "name": "ipython",
    "version": 3
   },
   "file_extension": ".py",
   "mimetype": "text/x-python",
   "name": "python",
   "nbconvert_exporter": "python",
   "pygments_lexer": "ipython3",
   "version": "3.11.13"
  }
 },
 "nbformat": 4,
 "nbformat_minor": 5
}
