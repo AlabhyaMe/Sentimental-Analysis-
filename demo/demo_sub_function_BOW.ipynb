{
 "cells": [
  {
   "cell_type": "markdown",
   "id": "70abe684",
   "metadata": {},
   "source": [
    "## Bag  of Words (BOW) Vectorization\n",
    "\n",
    "In this file, I will go through the BOW (Bag of Words) vectorization method, which is one of the simplest and most commonly used methods for text vectorization. It converts text data into a numerical format that can be used by machine learning algorithms.\n",
    "\n",
    "This file will show how the BOW works in python, and how to use it in the quick_sentiments package. The BOW vectorization method is implemented in the `quick_sentiments.vect.BOW` module.\n",
    "\n",
    "BOW is a sub function and user do not have to directly use it. It is used in the main function `run_pipeline` to vectorize the text data. However, it is useful to understand how it works and how to use it in case you want to use it directly."
   ]
  },
  {
   "cell_type": "code",
   "execution_count": 1,
   "id": "7bea0f5d",
   "metadata": {},
   "outputs": [
    {
     "data": {
      "text/html": [
       "<div><style>\n",
       ".dataframe > thead > tr,\n",
       ".dataframe > tbody > tr {\n",
       "  text-align: right;\n",
       "  white-space: pre-wrap;\n",
       "}\n",
       "</style>\n",
       "<small>shape: (5, 5)</small><table border=\"1\" class=\"dataframe\"><thead><tr><th>movieid</th><th>reviewerName</th><th>isFrequentReviewer</th><th>reviewText</th><th>sentiment</th></tr><tr><td>str</td><td>str</td><td>bool</td><td>str</td><td>str</td></tr></thead><tbody><tr><td>&quot;marvelous_pira…</td><td>&quot;Benjamin Henry…</td><td>false</td><td>&quot;Henry Selick’s…</td><td>&quot;POSITIVE&quot;</td></tr><tr><td>&quot;tony_montana_f…</td><td>&quot;Felicia Lopez&quot;</td><td>false</td><td>&quot;With a cast th…</td><td>&quot;NEGATIVE&quot;</td></tr><tr><td>&quot;darth_vader_ka…</td><td>&quot;Mr. Charles Bu…</td><td>true</td><td>&quot;Creed II does …</td><td>&quot;POSITIVE&quot;</td></tr><tr><td>&quot;lara_croft_gli…</td><td>&quot;Ryan Barrett&quot;</td><td>false</td><td>&quot;I know what yo…</td><td>&quot;POSITIVE&quot;</td></tr><tr><td>&quot;jason_bourne_s…</td><td>&quot;Alexander Glov…</td><td>false</td><td>&quot;Director Ferna…</td><td>&quot;POSITIVE&quot;</td></tr></tbody></table></div>"
      ],
      "text/plain": [
       "shape: (5, 5)\n",
       "┌─────────────────────┬─────────────────────┬────────────────────┬─────────────────────┬───────────┐\n",
       "│ movieid             ┆ reviewerName        ┆ isFrequentReviewer ┆ reviewText          ┆ sentiment │\n",
       "│ ---                 ┆ ---                 ┆ ---                ┆ ---                 ┆ ---       │\n",
       "│ str                 ┆ str                 ┆ bool               ┆ str                 ┆ str       │\n",
       "╞═════════════════════╪═════════════════════╪════════════════════╪═════════════════════╪═══════════╡\n",
       "│ marvelous_pirate    ┆ Benjamin Henry      ┆ false              ┆ Henry Selick’s      ┆ POSITIVE  │\n",
       "│                     ┆                     ┆                    ┆ first movie since…  ┆           │\n",
       "│ tony_montana_frodo_ ┆ Felicia Lopez       ┆ false              ┆ With a cast that    ┆ NEGATIVE  │\n",
       "│ baggins_v_roc…      ┆                     ┆                    ┆ reads like the …    ┆           │\n",
       "│ darth_vader_katniss ┆ Mr. Charles Burgess ┆ true               ┆ Creed II does not   ┆ POSITIVE  │\n",
       "│ _everdeen_sor…      ┆                     ┆                    ┆ give us anythi…     ┆           │\n",
       "│ lara_croft_glimmer  ┆ Ryan Barrett        ┆ false              ┆ I know what you're  ┆ POSITIVE  │\n",
       "│                     ┆                     ┆                    ┆ thinking, but…      ┆           │\n",
       "│ jason_bourne_surrea ┆ Alexander Glover    ┆ false              ┆ Director Fernando   ┆ POSITIVE  │\n",
       "│ l_the_termina…      ┆                     ┆                    ┆ Meirelles tell…     ┆           │\n",
       "└─────────────────────┴─────────────────────┴────────────────────┴─────────────────────┴───────────┘"
      ]
     },
     "execution_count": 1,
     "metadata": {},
     "output_type": "execute_result"
    }
   ],
   "source": [
    "import polars as pl\n",
    "df = pl.read_csv(\"training_data/train.csv\", encoding=\"utf-8\")\n",
    "df.head()"
   ]
  },
  {
   "cell_type": "code",
   "execution_count": 7,
   "id": "24568176",
   "metadata": {},
   "outputs": [],
   "source": [
    "from quick_sentiments import pre_process\n",
    "from quick_sentiments.vect.BOW import vectorize"
   ]
  },
  {
   "cell_type": "code",
   "execution_count": 5,
   "id": "1bb66318",
   "metadata": {},
   "outputs": [
    {
     "data": {
      "text/plain": [
       "['henry selicks first movie since 2009s coraline fifth stopmotion masterpiece',\n",
       " 'cast read like vogue oscar party guest list valentine day cantmiss cinema instead standard hollywood schmaltz',\n",
       " 'creed ii give u anything another slightly superior rocky sequel win point nt expect knockout',\n",
       " 'know thinking limitless bradley cooper cell multiply lucy tap brain new thrillsnew skill passing hour',\n",
       " 'director fernando meirelles tell story urgency sharp visual composition washed cinematography ooze gangster life']"
      ]
     },
     "execution_count": 5,
     "metadata": {},
     "output_type": "execute_result"
    }
   ],
   "source": [
    "BOW_demo =[pre_process(text) for text in df[\"reviewText\"][:5]]\n",
    "BOW_demo"
   ]
  },
  {
   "cell_type": "code",
   "execution_count": 9,
   "id": "ac456b45",
   "metadata": {},
   "outputs": [
    {
     "name": "stdout",
     "output_type": "stream",
     "text": [
      "   - Generating Bag-of-Words features...\n"
     ]
    }
   ],
   "source": [
    "BOW, vect = vectorize(BOW_demo)"
   ]
  },
  {
   "cell_type": "code",
   "execution_count": 14,
   "id": "f9d7e19e",
   "metadata": {},
   "outputs": [
    {
     "data": {
      "text/html": [
       "<div><style>\n",
       ".dataframe > thead > tr,\n",
       ".dataframe > tbody > tr {\n",
       "  text-align: right;\n",
       "  white-space: pre-wrap;\n",
       "}\n",
       "</style>\n",
       "<small>shape: (5, 69)</small><table border=\"1\" class=\"dataframe\"><thead><tr><th>column_0</th><th>column_1</th><th>column_2</th><th>column_3</th><th>column_4</th><th>column_5</th><th>column_6</th><th>column_7</th><th>column_8</th><th>column_9</th><th>column_10</th><th>column_11</th><th>column_12</th><th>column_13</th><th>column_14</th><th>column_15</th><th>column_16</th><th>column_17</th><th>column_18</th><th>column_19</th><th>column_20</th><th>column_21</th><th>column_22</th><th>column_23</th><th>column_24</th><th>column_25</th><th>column_26</th><th>column_27</th><th>column_28</th><th>column_29</th><th>column_30</th><th>column_31</th><th>column_32</th><th>column_33</th><th>column_34</th><th>column_35</th><th>column_36</th><th>column_37</th><th>column_38</th><th>column_39</th><th>column_40</th><th>column_41</th><th>column_42</th><th>column_43</th><th>column_44</th><th>column_45</th><th>column_46</th><th>column_47</th><th>column_48</th><th>column_49</th><th>column_50</th><th>column_51</th><th>column_52</th><th>column_53</th><th>column_54</th><th>column_55</th><th>column_56</th><th>column_57</th><th>column_58</th><th>column_59</th><th>column_60</th><th>column_61</th><th>column_62</th><th>column_63</th><th>column_64</th><th>column_65</th><th>column_66</th><th>column_67</th><th>column_68</th></tr><tr><td>i64</td><td>i64</td><td>i64</td><td>i64</td><td>i64</td><td>i64</td><td>i64</td><td>i64</td><td>i64</td><td>i64</td><td>i64</td><td>i64</td><td>i64</td><td>i64</td><td>i64</td><td>i64</td><td>i64</td><td>i64</td><td>i64</td><td>i64</td><td>i64</td><td>i64</td><td>i64</td><td>i64</td><td>i64</td><td>i64</td><td>i64</td><td>i64</td><td>i64</td><td>i64</td><td>i64</td><td>i64</td><td>i64</td><td>i64</td><td>i64</td><td>i64</td><td>i64</td><td>i64</td><td>i64</td><td>i64</td><td>i64</td><td>i64</td><td>i64</td><td>i64</td><td>i64</td><td>i64</td><td>i64</td><td>i64</td><td>i64</td><td>i64</td><td>i64</td><td>i64</td><td>i64</td><td>i64</td><td>i64</td><td>i64</td><td>i64</td><td>i64</td><td>i64</td><td>i64</td><td>i64</td><td>i64</td><td>i64</td><td>i64</td><td>i64</td><td>i64</td><td>i64</td><td>i64</td><td>i64</td></tr></thead><tbody><tr><td>1</td><td>0</td><td>0</td><td>0</td><td>0</td><td>0</td><td>0</td><td>0</td><td>0</td><td>0</td><td>0</td><td>0</td><td>1</td><td>0</td><td>0</td><td>0</td><td>0</td><td>0</td><td>1</td><td>1</td><td>0</td><td>0</td><td>0</td><td>1</td><td>0</td><td>0</td><td>0</td><td>0</td><td>0</td><td>0</td><td>0</td><td>0</td><td>0</td><td>0</td><td>0</td><td>1</td><td>0</td><td>1</td><td>0</td><td>0</td><td>0</td><td>0</td><td>0</td><td>0</td><td>0</td><td>0</td><td>0</td><td>0</td><td>0</td><td>1</td><td>0</td><td>0</td><td>1</td><td>0</td><td>0</td><td>0</td><td>1</td><td>0</td><td>0</td><td>0</td><td>0</td><td>0</td><td>0</td><td>0</td><td>0</td><td>0</td><td>0</td><td>0</td><td>0</td></tr><tr><td>0</td><td>0</td><td>0</td><td>0</td><td>0</td><td>1</td><td>1</td><td>0</td><td>1</td><td>0</td><td>0</td><td>0</td><td>0</td><td>0</td><td>1</td><td>0</td><td>0</td><td>0</td><td>0</td><td>0</td><td>0</td><td>0</td><td>1</td><td>0</td><td>1</td><td>0</td><td>0</td><td>1</td><td>0</td><td>0</td><td>0</td><td>1</td><td>0</td><td>1</td><td>0</td><td>0</td><td>0</td><td>0</td><td>0</td><td>0</td><td>0</td><td>0</td><td>1</td><td>1</td><td>0</td><td>0</td><td>1</td><td>0</td><td>1</td><td>0</td><td>0</td><td>0</td><td>0</td><td>0</td><td>0</td><td>1</td><td>0</td><td>0</td><td>0</td><td>0</td><td>0</td><td>0</td><td>0</td><td>0</td><td>1</td><td>0</td><td>1</td><td>0</td><td>0</td></tr><tr><td>0</td><td>1</td><td>1</td><td>0</td><td>0</td><td>0</td><td>0</td><td>0</td><td>0</td><td>0</td><td>0</td><td>0</td><td>0</td><td>1</td><td>0</td><td>0</td><td>1</td><td>0</td><td>0</td><td>0</td><td>0</td><td>1</td><td>0</td><td>0</td><td>0</td><td>0</td><td>1</td><td>0</td><td>1</td><td>0</td><td>0</td><td>0</td><td>0</td><td>0</td><td>0</td><td>0</td><td>0</td><td>0</td><td>0</td><td>0</td><td>1</td><td>0</td><td>0</td><td>0</td><td>0</td><td>1</td><td>0</td><td>1</td><td>0</td><td>0</td><td>1</td><td>0</td><td>0</td><td>0</td><td>1</td><td>0</td><td>0</td><td>0</td><td>1</td><td>0</td><td>0</td><td>0</td><td>0</td><td>0</td><td>0</td><td>0</td><td>0</td><td>0</td><td>1</td></tr><tr><td>0</td><td>0</td><td>0</td><td>1</td><td>1</td><td>0</td><td>0</td><td>1</td><td>0</td><td>0</td><td>0</td><td>1</td><td>0</td><td>0</td><td>0</td><td>0</td><td>0</td><td>0</td><td>0</td><td>0</td><td>0</td><td>0</td><td>0</td><td>0</td><td>0</td><td>1</td><td>0</td><td>0</td><td>0</td><td>1</td><td>0</td><td>0</td><td>1</td><td>0</td><td>1</td><td>0</td><td>0</td><td>0</td><td>1</td><td>1</td><td>0</td><td>0</td><td>0</td><td>0</td><td>1</td><td>0</td><td>0</td><td>0</td><td>0</td><td>0</td><td>0</td><td>0</td><td>0</td><td>1</td><td>0</td><td>0</td><td>0</td><td>0</td><td>0</td><td>1</td><td>0</td><td>1</td><td>1</td><td>0</td><td>0</td><td>0</td><td>0</td><td>0</td><td>0</td></tr><tr><td>0</td><td>0</td><td>0</td><td>0</td><td>0</td><td>0</td><td>0</td><td>0</td><td>0</td><td>1</td><td>1</td><td>0</td><td>0</td><td>0</td><td>0</td><td>1</td><td>0</td><td>1</td><td>0</td><td>0</td><td>1</td><td>0</td><td>0</td><td>0</td><td>0</td><td>0</td><td>0</td><td>0</td><td>0</td><td>0</td><td>1</td><td>0</td><td>0</td><td>0</td><td>0</td><td>0</td><td>1</td><td>0</td><td>0</td><td>0</td><td>0</td><td>1</td><td>0</td><td>0</td><td>0</td><td>0</td><td>0</td><td>0</td><td>0</td><td>0</td><td>0</td><td>1</td><td>0</td><td>0</td><td>0</td><td>0</td><td>0</td><td>1</td><td>0</td><td>0</td><td>1</td><td>0</td><td>0</td><td>1</td><td>0</td><td>1</td><td>0</td><td>1</td><td>0</td></tr></tbody></table></div>"
      ],
      "text/plain": [
       "shape: (5, 69)\n",
       "┌──────────┬──────────┬──────────┬──────────┬───┬───────────┬───────────┬───────────┬───────────┐\n",
       "│ column_0 ┆ column_1 ┆ column_2 ┆ column_3 ┆ … ┆ column_65 ┆ column_66 ┆ column_67 ┆ column_68 │\n",
       "│ ---      ┆ ---      ┆ ---      ┆ ---      ┆   ┆ ---       ┆ ---       ┆ ---       ┆ ---       │\n",
       "│ i64      ┆ i64      ┆ i64      ┆ i64      ┆   ┆ i64       ┆ i64       ┆ i64       ┆ i64       │\n",
       "╞══════════╪══════════╪══════════╪══════════╪═══╪═══════════╪═══════════╪═══════════╪═══════════╡\n",
       "│ 1        ┆ 0        ┆ 0        ┆ 0        ┆ … ┆ 0         ┆ 0         ┆ 0         ┆ 0         │\n",
       "│ 0        ┆ 0        ┆ 0        ┆ 0        ┆ … ┆ 0         ┆ 1         ┆ 0         ┆ 0         │\n",
       "│ 0        ┆ 1        ┆ 1        ┆ 0        ┆ … ┆ 0         ┆ 0         ┆ 0         ┆ 1         │\n",
       "│ 0        ┆ 0        ┆ 0        ┆ 1        ┆ … ┆ 0         ┆ 0         ┆ 0         ┆ 0         │\n",
       "│ 0        ┆ 0        ┆ 0        ┆ 0        ┆ … ┆ 1         ┆ 0         ┆ 1         ┆ 0         │\n",
       "└──────────┴──────────┴──────────┴──────────┴───┴───────────┴───────────┴───────────┴───────────┘"
      ]
     },
     "execution_count": 14,
     "metadata": {},
     "output_type": "execute_result"
    }
   ],
   "source": [
    "\n",
    "BOW_df = pl.DataFrame(BOW.toarray())\n",
    "BOW_df"
   ]
  },
  {
   "cell_type": "markdown",
   "id": "21d8d0ee",
   "metadata": {},
   "source": [
    "Each words are represented by a vector of numbers, which is called a vector representation. For instance, column_0 is the representation for 'henry'. The  columns could have been named after the words, but we avoid that so that later in the new dataset, we can link the same words to the column values and drop the new words that are not in the original dataset."
   ]
  },
  {
   "cell_type": "markdown",
   "id": "dbe648b5",
   "metadata": {},
   "source": [
    "--------------------------------------------------------------------"
   ]
  },
  {
   "cell_type": "markdown",
   "id": "42f604c6",
   "metadata": {},
   "source": [
    "This is how the BOW looks with the words as column names"
   ]
  },
  {
   "cell_type": "code",
   "execution_count": 18,
   "id": "41e1bfd3",
   "metadata": {},
   "outputs": [
    {
     "data": {
      "text/html": [
       "<div><style>\n",
       ".dataframe > thead > tr,\n",
       ".dataframe > tbody > tr {\n",
       "  text-align: right;\n",
       "  white-space: pre-wrap;\n",
       "}\n",
       "</style>\n",
       "<small>shape: (5, 69)</small><table border=\"1\" class=\"dataframe\"><thead><tr><th>2009s</th><th>another</th><th>anything</th><th>bradley</th><th>brain</th><th>cantmiss</th><th>cast</th><th>cell</th><th>cinema</th><th>cinematography</th><th>composition</th><th>cooper</th><th>coraline</th><th>creed</th><th>day</th><th>director</th><th>expect</th><th>fernando</th><th>fifth</th><th>first</th><th>gangster</th><th>give</th><th>guest</th><th>henry</th><th>hollywood</th><th>hour</th><th>ii</th><th>instead</th><th>knockout</th><th>know</th><th>life</th><th>like</th><th>limitless</th><th>list</th><th>lucy</th><th>masterpiece</th><th>meirelles</th><th>movie</th><th>multiply</th><th>new</th><th>nt</th><th>ooze</th><th>oscar</th><th>party</th><th>passing</th><th>point</th><th>read</th><th>rocky</th><th>schmaltz</th><th>selicks</th><th>sequel</th><th>sharp</th><th>since</th><th>skill</th><th>slightly</th><th>standard</th><th>stopmotion</th><th>story</th><th>superior</th><th>tap</th><th>tell</th><th>thinking</th><th>thrillsnew</th><th>urgency</th><th>valentine</th><th>visual</th><th>vogue</th><th>washed</th><th>win</th></tr><tr><td>i64</td><td>i64</td><td>i64</td><td>i64</td><td>i64</td><td>i64</td><td>i64</td><td>i64</td><td>i64</td><td>i64</td><td>i64</td><td>i64</td><td>i64</td><td>i64</td><td>i64</td><td>i64</td><td>i64</td><td>i64</td><td>i64</td><td>i64</td><td>i64</td><td>i64</td><td>i64</td><td>i64</td><td>i64</td><td>i64</td><td>i64</td><td>i64</td><td>i64</td><td>i64</td><td>i64</td><td>i64</td><td>i64</td><td>i64</td><td>i64</td><td>i64</td><td>i64</td><td>i64</td><td>i64</td><td>i64</td><td>i64</td><td>i64</td><td>i64</td><td>i64</td><td>i64</td><td>i64</td><td>i64</td><td>i64</td><td>i64</td><td>i64</td><td>i64</td><td>i64</td><td>i64</td><td>i64</td><td>i64</td><td>i64</td><td>i64</td><td>i64</td><td>i64</td><td>i64</td><td>i64</td><td>i64</td><td>i64</td><td>i64</td><td>i64</td><td>i64</td><td>i64</td><td>i64</td><td>i64</td></tr></thead><tbody><tr><td>1</td><td>0</td><td>0</td><td>0</td><td>0</td><td>0</td><td>0</td><td>0</td><td>0</td><td>0</td><td>0</td><td>0</td><td>1</td><td>0</td><td>0</td><td>0</td><td>0</td><td>0</td><td>1</td><td>1</td><td>0</td><td>0</td><td>0</td><td>1</td><td>0</td><td>0</td><td>0</td><td>0</td><td>0</td><td>0</td><td>0</td><td>0</td><td>0</td><td>0</td><td>0</td><td>1</td><td>0</td><td>1</td><td>0</td><td>0</td><td>0</td><td>0</td><td>0</td><td>0</td><td>0</td><td>0</td><td>0</td><td>0</td><td>0</td><td>1</td><td>0</td><td>0</td><td>1</td><td>0</td><td>0</td><td>0</td><td>1</td><td>0</td><td>0</td><td>0</td><td>0</td><td>0</td><td>0</td><td>0</td><td>0</td><td>0</td><td>0</td><td>0</td><td>0</td></tr><tr><td>0</td><td>0</td><td>0</td><td>0</td><td>0</td><td>1</td><td>1</td><td>0</td><td>1</td><td>0</td><td>0</td><td>0</td><td>0</td><td>0</td><td>1</td><td>0</td><td>0</td><td>0</td><td>0</td><td>0</td><td>0</td><td>0</td><td>1</td><td>0</td><td>1</td><td>0</td><td>0</td><td>1</td><td>0</td><td>0</td><td>0</td><td>1</td><td>0</td><td>1</td><td>0</td><td>0</td><td>0</td><td>0</td><td>0</td><td>0</td><td>0</td><td>0</td><td>1</td><td>1</td><td>0</td><td>0</td><td>1</td><td>0</td><td>1</td><td>0</td><td>0</td><td>0</td><td>0</td><td>0</td><td>0</td><td>1</td><td>0</td><td>0</td><td>0</td><td>0</td><td>0</td><td>0</td><td>0</td><td>0</td><td>1</td><td>0</td><td>1</td><td>0</td><td>0</td></tr><tr><td>0</td><td>1</td><td>1</td><td>0</td><td>0</td><td>0</td><td>0</td><td>0</td><td>0</td><td>0</td><td>0</td><td>0</td><td>0</td><td>1</td><td>0</td><td>0</td><td>1</td><td>0</td><td>0</td><td>0</td><td>0</td><td>1</td><td>0</td><td>0</td><td>0</td><td>0</td><td>1</td><td>0</td><td>1</td><td>0</td><td>0</td><td>0</td><td>0</td><td>0</td><td>0</td><td>0</td><td>0</td><td>0</td><td>0</td><td>0</td><td>1</td><td>0</td><td>0</td><td>0</td><td>0</td><td>1</td><td>0</td><td>1</td><td>0</td><td>0</td><td>1</td><td>0</td><td>0</td><td>0</td><td>1</td><td>0</td><td>0</td><td>0</td><td>1</td><td>0</td><td>0</td><td>0</td><td>0</td><td>0</td><td>0</td><td>0</td><td>0</td><td>0</td><td>1</td></tr><tr><td>0</td><td>0</td><td>0</td><td>1</td><td>1</td><td>0</td><td>0</td><td>1</td><td>0</td><td>0</td><td>0</td><td>1</td><td>0</td><td>0</td><td>0</td><td>0</td><td>0</td><td>0</td><td>0</td><td>0</td><td>0</td><td>0</td><td>0</td><td>0</td><td>0</td><td>1</td><td>0</td><td>0</td><td>0</td><td>1</td><td>0</td><td>0</td><td>1</td><td>0</td><td>1</td><td>0</td><td>0</td><td>0</td><td>1</td><td>1</td><td>0</td><td>0</td><td>0</td><td>0</td><td>1</td><td>0</td><td>0</td><td>0</td><td>0</td><td>0</td><td>0</td><td>0</td><td>0</td><td>1</td><td>0</td><td>0</td><td>0</td><td>0</td><td>0</td><td>1</td><td>0</td><td>1</td><td>1</td><td>0</td><td>0</td><td>0</td><td>0</td><td>0</td><td>0</td></tr><tr><td>0</td><td>0</td><td>0</td><td>0</td><td>0</td><td>0</td><td>0</td><td>0</td><td>0</td><td>1</td><td>1</td><td>0</td><td>0</td><td>0</td><td>0</td><td>1</td><td>0</td><td>1</td><td>0</td><td>0</td><td>1</td><td>0</td><td>0</td><td>0</td><td>0</td><td>0</td><td>0</td><td>0</td><td>0</td><td>0</td><td>1</td><td>0</td><td>0</td><td>0</td><td>0</td><td>0</td><td>1</td><td>0</td><td>0</td><td>0</td><td>0</td><td>1</td><td>0</td><td>0</td><td>0</td><td>0</td><td>0</td><td>0</td><td>0</td><td>0</td><td>0</td><td>1</td><td>0</td><td>0</td><td>0</td><td>0</td><td>0</td><td>1</td><td>0</td><td>0</td><td>1</td><td>0</td><td>0</td><td>1</td><td>0</td><td>1</td><td>0</td><td>1</td><td>0</td></tr></tbody></table></div>"
      ],
      "text/plain": [
       "shape: (5, 69)\n",
       "┌───────┬─────────┬──────────┬─────────┬───┬────────┬───────┬────────┬─────┐\n",
       "│ 2009s ┆ another ┆ anything ┆ bradley ┆ … ┆ visual ┆ vogue ┆ washed ┆ win │\n",
       "│ ---   ┆ ---     ┆ ---      ┆ ---     ┆   ┆ ---    ┆ ---   ┆ ---    ┆ --- │\n",
       "│ i64   ┆ i64     ┆ i64      ┆ i64     ┆   ┆ i64    ┆ i64   ┆ i64    ┆ i64 │\n",
       "╞═══════╪═════════╪══════════╪═════════╪═══╪════════╪═══════╪════════╪═════╡\n",
       "│ 1     ┆ 0       ┆ 0        ┆ 0       ┆ … ┆ 0      ┆ 0     ┆ 0      ┆ 0   │\n",
       "│ 0     ┆ 0       ┆ 0        ┆ 0       ┆ … ┆ 0      ┆ 1     ┆ 0      ┆ 0   │\n",
       "│ 0     ┆ 1       ┆ 1        ┆ 0       ┆ … ┆ 0      ┆ 0     ┆ 0      ┆ 1   │\n",
       "│ 0     ┆ 0       ┆ 0        ┆ 1       ┆ … ┆ 0      ┆ 0     ┆ 0      ┆ 0   │\n",
       "│ 0     ┆ 0       ┆ 0        ┆ 0       ┆ … ┆ 1      ┆ 0     ┆ 1      ┆ 0   │\n",
       "└───────┴─────────┴──────────┴─────────┴───┴────────┴───────┴────────┴─────┘"
      ]
     },
     "execution_count": 18,
     "metadata": {},
     "output_type": "execute_result"
    }
   ],
   "source": [
    "feature_names = vect.get_feature_names_out()\n",
    "BOW_df_names = pl.DataFrame(BOW.toarray(), schema=feature_names.tolist())\n",
    "BOW_df_names.head()"
   ]
  }
 ],
 "metadata": {
  "kernelspec": {
   "display_name": "for_quick_sentiments",
   "language": "python",
   "name": "python3"
  },
  "language_info": {
   "codemirror_mode": {
    "name": "ipython",
    "version": 3
   },
   "file_extension": ".py",
   "mimetype": "text/x-python",
   "name": "python",
   "nbconvert_exporter": "python",
   "pygments_lexer": "ipython3",
   "version": "3.11.13"
  }
 },
 "nbformat": 4,
 "nbformat_minor": 5
}
