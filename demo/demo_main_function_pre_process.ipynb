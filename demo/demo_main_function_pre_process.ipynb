{
 "cells": [
  {
   "cell_type": "code",
   "execution_count": 17,
   "id": "6fe1669c",
   "metadata": {},
   "outputs": [
    {
     "name": "stdout",
     "output_type": "stream",
     "text": [
      "Processing c:\\users\\meala\\documents\\quick_sentiments\\dist\\quick_sentiments-0.1.6-py3-none-any.whl\n",
      "Requirement already satisfied: numpy>=1.21.0 in c:\\users\\meala\\anaconda3\\envs\\for_quick_sentiments\\lib\\site-packages (from quick-sentiments==0.1.6) (2.3.1)\n",
      "Requirement already satisfied: pandas>=1.3.0 in c:\\users\\meala\\anaconda3\\envs\\for_quick_sentiments\\lib\\site-packages (from quick-sentiments==0.1.6) (2.3.1)\n",
      "Requirement already satisfied: scikit-learn>=1.0.0 in c:\\users\\meala\\anaconda3\\envs\\for_quick_sentiments\\lib\\site-packages (from quick-sentiments==0.1.6) (1.7.1)\n",
      "Requirement already satisfied: polars<0.20.0,>=0.19.5 in c:\\users\\meala\\anaconda3\\envs\\for_quick_sentiments\\lib\\site-packages (from quick-sentiments==0.1.6) (0.19.19)\n",
      "Requirement already satisfied: gensim==4.3.0 in c:\\users\\meala\\anaconda3\\envs\\for_quick_sentiments\\lib\\site-packages (from quick-sentiments==0.1.6) (4.3.0)\n",
      "Requirement already satisfied: nltk==3.8.1 in c:\\users\\meala\\anaconda3\\envs\\for_quick_sentiments\\lib\\site-packages (from quick-sentiments==0.1.6) (3.8.1)\n",
      "Requirement already satisfied: xgboost==3.0.2 in c:\\users\\meala\\anaconda3\\envs\\for_quick_sentiments\\lib\\site-packages (from quick-sentiments==0.1.6) (3.0.2)\n",
      "Requirement already satisfied: scipy>=1.7.0 in c:\\users\\meala\\anaconda3\\envs\\for_quick_sentiments\\lib\\site-packages (from gensim==4.3.0->quick-sentiments==0.1.6) (1.16.0)\n",
      "Requirement already satisfied: smart-open>=1.8.1 in c:\\users\\meala\\anaconda3\\envs\\for_quick_sentiments\\lib\\site-packages (from gensim==4.3.0->quick-sentiments==0.1.6) (7.3.0.post1)\n",
      "Requirement already satisfied: FuzzyTM>=0.4.0 in c:\\users\\meala\\anaconda3\\envs\\for_quick_sentiments\\lib\\site-packages (from gensim==4.3.0->quick-sentiments==0.1.6) (2.0.9)\n",
      "Requirement already satisfied: Cython==0.29.32 in c:\\users\\meala\\anaconda3\\envs\\for_quick_sentiments\\lib\\site-packages (from gensim==4.3.0->quick-sentiments==0.1.6) (0.29.32)\n",
      "Requirement already satisfied: click in c:\\users\\meala\\anaconda3\\envs\\for_quick_sentiments\\lib\\site-packages (from nltk==3.8.1->quick-sentiments==0.1.6) (8.2.1)\n",
      "Requirement already satisfied: joblib in c:\\users\\meala\\anaconda3\\envs\\for_quick_sentiments\\lib\\site-packages (from nltk==3.8.1->quick-sentiments==0.1.6) (1.5.1)\n",
      "Requirement already satisfied: regex>=2021.8.3 in c:\\users\\meala\\anaconda3\\envs\\for_quick_sentiments\\lib\\site-packages (from nltk==3.8.1->quick-sentiments==0.1.6) (2024.11.6)\n",
      "Requirement already satisfied: tqdm in c:\\users\\meala\\anaconda3\\envs\\for_quick_sentiments\\lib\\site-packages (from nltk==3.8.1->quick-sentiments==0.1.6) (4.67.1)\n",
      "Requirement already satisfied: pyfume in c:\\users\\meala\\anaconda3\\envs\\for_quick_sentiments\\lib\\site-packages (from FuzzyTM>=0.4.0->gensim==4.3.0->quick-sentiments==0.1.6) (0.3.1)\n",
      "Requirement already satisfied: python-dateutil>=2.8.2 in c:\\users\\meala\\anaconda3\\envs\\for_quick_sentiments\\lib\\site-packages (from pandas>=1.3.0->quick-sentiments==0.1.6) (2.9.0.post0)\n",
      "Requirement already satisfied: pytz>=2020.1 in c:\\users\\meala\\anaconda3\\envs\\for_quick_sentiments\\lib\\site-packages (from pandas>=1.3.0->quick-sentiments==0.1.6) (2025.2)\n",
      "Requirement already satisfied: tzdata>=2022.7 in c:\\users\\meala\\anaconda3\\envs\\for_quick_sentiments\\lib\\site-packages (from pandas>=1.3.0->quick-sentiments==0.1.6) (2025.2)\n",
      "Requirement already satisfied: six>=1.5 in c:\\users\\meala\\anaconda3\\envs\\for_quick_sentiments\\lib\\site-packages (from python-dateutil>=2.8.2->pandas>=1.3.0->quick-sentiments==0.1.6) (1.17.0)\n",
      "Requirement already satisfied: threadpoolctl>=3.1.0 in c:\\users\\meala\\anaconda3\\envs\\for_quick_sentiments\\lib\\site-packages (from scikit-learn>=1.0.0->quick-sentiments==0.1.6) (3.6.0)\n",
      "Requirement already satisfied: wrapt in c:\\users\\meala\\anaconda3\\envs\\for_quick_sentiments\\lib\\site-packages (from smart-open>=1.8.1->gensim==4.3.0->quick-sentiments==0.1.6) (1.17.2)\n",
      "Requirement already satisfied: colorama in c:\\users\\meala\\anaconda3\\envs\\for_quick_sentiments\\lib\\site-packages (from click->nltk==3.8.1->quick-sentiments==0.1.6) (0.4.6)\n",
      "Requirement already satisfied: simpful in c:\\users\\meala\\anaconda3\\envs\\for_quick_sentiments\\lib\\site-packages (from pyfume->FuzzyTM>=0.4.0->gensim==4.3.0->quick-sentiments==0.1.6) (2.12.0)\n",
      "Requirement already satisfied: fst-pso in c:\\users\\meala\\anaconda3\\envs\\for_quick_sentiments\\lib\\site-packages (from pyfume->FuzzyTM>=0.4.0->gensim==4.3.0->quick-sentiments==0.1.6) (1.9.0)\n",
      "Requirement already satisfied: typing-extensions in c:\\users\\meala\\anaconda3\\envs\\for_quick_sentiments\\lib\\site-packages (from pyfume->FuzzyTM>=0.4.0->gensim==4.3.0->quick-sentiments==0.1.6) (4.14.1)\n",
      "Requirement already satisfied: miniful in c:\\users\\meala\\anaconda3\\envs\\for_quick_sentiments\\lib\\site-packages (from fst-pso->pyfume->FuzzyTM>=0.4.0->gensim==4.3.0->quick-sentiments==0.1.6) (0.0.6)\n",
      "quick-sentiments is already installed with the same version as the provided wheel. Use --force-reinstall to force an installation of the wheel.\n"
     ]
    }
   ],
   "source": [
    "#locally install the package\n",
    "! pip install ..\\dist\\quick_sentiments-0.1.6-py3-none-any.whl"
   ]
  },
  {
   "cell_type": "markdown",
   "id": "0d211701",
   "metadata": {},
   "source": [
    "## Main Function Pre_process"
   ]
  },
  {
   "cell_type": "markdown",
   "id": "0774846c",
   "metadata": {},
   "source": [
    "`pre_process` from preprocess.py is the main function to pre-process the text data. It can take string or list of strings as input and return a list of cleaned strings."
   ]
  },
  {
   "cell_type": "code",
   "execution_count": 1,
   "id": "0defe86b",
   "metadata": {},
   "outputs": [],
   "source": [
    "#import data first \n",
    "import polars as pl"
   ]
  },
  {
   "cell_type": "code",
   "execution_count": 2,
   "id": "3ac4db4c",
   "metadata": {},
   "outputs": [
    {
     "data": {
      "text/html": [
       "<div><style>\n",
       ".dataframe > thead > tr,\n",
       ".dataframe > tbody > tr {\n",
       "  text-align: right;\n",
       "  white-space: pre-wrap;\n",
       "}\n",
       "</style>\n",
       "<small>shape: (5, 5)</small><table border=\"1\" class=\"dataframe\"><thead><tr><th>movieid</th><th>reviewerName</th><th>isFrequentReviewer</th><th>reviewText</th><th>sentiment</th></tr><tr><td>str</td><td>str</td><td>bool</td><td>str</td><td>str</td></tr></thead><tbody><tr><td>&quot;marvelous_pira…</td><td>&quot;Benjamin Henry…</td><td>false</td><td>&quot;Henry Selick’s…</td><td>&quot;POSITIVE&quot;</td></tr><tr><td>&quot;tony_montana_f…</td><td>&quot;Felicia Lopez&quot;</td><td>false</td><td>&quot;With a cast th…</td><td>&quot;NEGATIVE&quot;</td></tr><tr><td>&quot;darth_vader_ka…</td><td>&quot;Mr. Charles Bu…</td><td>true</td><td>&quot;Creed II does …</td><td>&quot;POSITIVE&quot;</td></tr><tr><td>&quot;lara_croft_gli…</td><td>&quot;Ryan Barrett&quot;</td><td>false</td><td>&quot;I know what yo…</td><td>&quot;POSITIVE&quot;</td></tr><tr><td>&quot;jason_bourne_s…</td><td>&quot;Alexander Glov…</td><td>false</td><td>&quot;Director Ferna…</td><td>&quot;POSITIVE&quot;</td></tr></tbody></table></div>"
      ],
      "text/plain": [
       "shape: (5, 5)\n",
       "┌─────────────────────┬─────────────────────┬────────────────────┬─────────────────────┬───────────┐\n",
       "│ movieid             ┆ reviewerName        ┆ isFrequentReviewer ┆ reviewText          ┆ sentiment │\n",
       "│ ---                 ┆ ---                 ┆ ---                ┆ ---                 ┆ ---       │\n",
       "│ str                 ┆ str                 ┆ bool               ┆ str                 ┆ str       │\n",
       "╞═════════════════════╪═════════════════════╪════════════════════╪═════════════════════╪═══════════╡\n",
       "│ marvelous_pirate    ┆ Benjamin Henry      ┆ false              ┆ Henry Selick’s      ┆ POSITIVE  │\n",
       "│                     ┆                     ┆                    ┆ first movie since…  ┆           │\n",
       "│ tony_montana_frodo_ ┆ Felicia Lopez       ┆ false              ┆ With a cast that    ┆ NEGATIVE  │\n",
       "│ baggins_v_roc…      ┆                     ┆                    ┆ reads like the …    ┆           │\n",
       "│ darth_vader_katniss ┆ Mr. Charles Burgess ┆ true               ┆ Creed II does not   ┆ POSITIVE  │\n",
       "│ _everdeen_sor…      ┆                     ┆                    ┆ give us anythi…     ┆           │\n",
       "│ lara_croft_glimmer  ┆ Ryan Barrett        ┆ false              ┆ I know what you're  ┆ POSITIVE  │\n",
       "│                     ┆                     ┆                    ┆ thinking, but…      ┆           │\n",
       "│ jason_bourne_surrea ┆ Alexander Glover    ┆ false              ┆ Director Fernando   ┆ POSITIVE  │\n",
       "│ l_the_termina…      ┆                     ┆                    ┆ Meirelles tell…     ┆           │\n",
       "└─────────────────────┴─────────────────────┴────────────────────┴─────────────────────┴───────────┘"
      ]
     },
     "execution_count": 2,
     "metadata": {},
     "output_type": "execute_result"
    }
   ],
   "source": [
    "df = pl.read_csv(\"training_data/train.csv\", encoding=\"utf-8\")\n",
    "df.head()"
   ]
  },
  {
   "cell_type": "code",
   "execution_count": null,
   "id": "33b45060",
   "metadata": {},
   "outputs": [],
   "source": [
    "from quick_sentiments import pre_process"
   ]
  },
  {
   "cell_type": "code",
   "execution_count": 15,
   "id": "5afcd201",
   "metadata": {},
   "outputs": [
    {
     "data": {
      "text/plain": [
       "['Henry Selick’s first movie since 2009’s Coraline. His fifth stop-motion masterpiece.',\n",
       " \"With a cast that reads like the Vogue Oscar party guest list, Valentine's Day should have been can't-miss cinema instead of standard Hollywood schmaltz.\",\n",
       " \"Creed II does not give us anything but another, slightly superior Rocky sequel. It wins on points. Just don't expect a knockout.\",\n",
       " \"I know what you're thinking, but this is no Limitless (Bradley Cooper). As the cells multiply and Lucy taps into more and more of her brain, it's new thrills-new skills with each passing hour.\",\n",
       " 'Director Fernando Meirelles tells the story with urgency, and his sharp visual compositions and washed out cinematography ooze gangster life.']"
      ]
     },
     "execution_count": 15,
     "metadata": {},
     "output_type": "execute_result"
    }
   ],
   "source": [
    "df[\"reviewText\"][:5].to_list()"
   ]
  },
  {
   "cell_type": "code",
   "execution_count": 16,
   "id": "65c8c311",
   "metadata": {},
   "outputs": [
    {
     "data": {
      "text/plain": [
       "['henry selicks first movie since 2009s coraline fifth stopmotion masterpiece',\n",
       " 'cast read like vogue oscar party guest list valentine day cantmiss cinema instead standard hollywood schmaltz',\n",
       " 'creed ii give u anything another slightly superior rocky sequel win point nt expect knockout',\n",
       " 'know thinking limitless bradley cooper cell multiply lucy tap brain new thrillsnew skill passing hour',\n",
       " 'director fernando meirelles tell story urgency sharp visual composition washed cinematography ooze gangster life']"
      ]
     },
     "execution_count": 16,
     "metadata": {},
     "output_type": "execute_result"
    }
   ],
   "source": [
    "[pre_process(text) for text in df[\"reviewText\"][:5]]\n"
   ]
  }
 ],
 "metadata": {
  "kernelspec": {
   "display_name": "for_quick_sentiments",
   "language": "python",
   "name": "python3"
  },
  "language_info": {
   "codemirror_mode": {
    "name": "ipython",
    "version": 3
   },
   "file_extension": ".py",
   "mimetype": "text/x-python",
   "name": "python",
   "nbconvert_exporter": "python",
   "pygments_lexer": "ipython3",
   "version": "3.11.13"
  }
 },
 "nbformat": 4,
 "nbformat_minor": 5
}
