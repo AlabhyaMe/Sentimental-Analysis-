{
 "cells": [
  {
   "cell_type": "markdown",
   "id": "0d211701",
   "metadata": {},
   "source": [
    "## Main Function: pre_process"
   ]
  },
  {
   "cell_type": "markdown",
   "id": "0774846c",
   "metadata": {},
   "source": [
    "`pre_process` from preprocess.py is the main function to pre-process the text data. It can take string or list of strings as input and return a list of cleaned strings."
   ]
  },
  {
   "cell_type": "code",
   "execution_count": 1,
   "id": "0defe86b",
   "metadata": {},
   "outputs": [],
   "source": [
    "#import data first \n",
    "import polars as pl"
   ]
  },
  {
   "cell_type": "code",
   "execution_count": 2,
   "id": "3ac4db4c",
   "metadata": {},
   "outputs": [
    {
     "data": {
      "text/html": [
       "<div><style>\n",
       ".dataframe > thead > tr,\n",
       ".dataframe > tbody > tr {\n",
       "  text-align: right;\n",
       "  white-space: pre-wrap;\n",
       "}\n",
       "</style>\n",
       "<small>shape: (5, 5)</small><table border=\"1\" class=\"dataframe\"><thead><tr><th>movieid</th><th>reviewerName</th><th>isFrequentReviewer</th><th>reviewText</th><th>sentiment</th></tr><tr><td>str</td><td>str</td><td>bool</td><td>str</td><td>str</td></tr></thead><tbody><tr><td>&quot;marvelous_pira…</td><td>&quot;Benjamin Henry…</td><td>false</td><td>&quot;Henry Selick’s…</td><td>&quot;POSITIVE&quot;</td></tr><tr><td>&quot;tony_montana_f…</td><td>&quot;Felicia Lopez&quot;</td><td>false</td><td>&quot;With a cast th…</td><td>&quot;NEGATIVE&quot;</td></tr><tr><td>&quot;darth_vader_ka…</td><td>&quot;Mr. Charles Bu…</td><td>true</td><td>&quot;Creed II does …</td><td>&quot;POSITIVE&quot;</td></tr><tr><td>&quot;lara_croft_gli…</td><td>&quot;Ryan Barrett&quot;</td><td>false</td><td>&quot;I know what yo…</td><td>&quot;POSITIVE&quot;</td></tr><tr><td>&quot;jason_bourne_s…</td><td>&quot;Alexander Glov…</td><td>false</td><td>&quot;Director Ferna…</td><td>&quot;POSITIVE&quot;</td></tr></tbody></table></div>"
      ],
      "text/plain": [
       "shape: (5, 5)\n",
       "┌─────────────────────┬─────────────────────┬────────────────────┬─────────────────────┬───────────┐\n",
       "│ movieid             ┆ reviewerName        ┆ isFrequentReviewer ┆ reviewText          ┆ sentiment │\n",
       "│ ---                 ┆ ---                 ┆ ---                ┆ ---                 ┆ ---       │\n",
       "│ str                 ┆ str                 ┆ bool               ┆ str                 ┆ str       │\n",
       "╞═════════════════════╪═════════════════════╪════════════════════╪═════════════════════╪═══════════╡\n",
       "│ marvelous_pirate    ┆ Benjamin Henry      ┆ false              ┆ Henry Selick’s      ┆ POSITIVE  │\n",
       "│                     ┆                     ┆                    ┆ first movie since…  ┆           │\n",
       "│ tony_montana_frodo_ ┆ Felicia Lopez       ┆ false              ┆ With a cast that    ┆ NEGATIVE  │\n",
       "│ baggins_v_roc…      ┆                     ┆                    ┆ reads like the …    ┆           │\n",
       "│ darth_vader_katniss ┆ Mr. Charles Burgess ┆ true               ┆ Creed II does not   ┆ POSITIVE  │\n",
       "│ _everdeen_sor…      ┆                     ┆                    ┆ give us anythi…     ┆           │\n",
       "│ lara_croft_glimmer  ┆ Ryan Barrett        ┆ false              ┆ I know what you're  ┆ POSITIVE  │\n",
       "│                     ┆                     ┆                    ┆ thinking, but…      ┆           │\n",
       "│ jason_bourne_surrea ┆ Alexander Glover    ┆ false              ┆ Director Fernando   ┆ POSITIVE  │\n",
       "│ l_the_termina…      ┆                     ┆                    ┆ Meirelles tell…     ┆           │\n",
       "└─────────────────────┴─────────────────────┴────────────────────┴─────────────────────┴───────────┘"
      ]
     },
     "execution_count": 2,
     "metadata": {},
     "output_type": "execute_result"
    }
   ],
   "source": [
    "df = pl.read_csv(\"training_data/train.csv\", encoding=\"utf-8\")\n",
    "df.head()"
   ]
  },
  {
   "cell_type": "code",
   "execution_count": null,
   "id": "33b45060",
   "metadata": {},
   "outputs": [],
   "source": [
    "from quick_sentiments import pre_process"
   ]
  },
  {
   "cell_type": "code",
   "execution_count": 15,
   "id": "5afcd201",
   "metadata": {},
   "outputs": [
    {
     "data": {
      "text/plain": [
       "['Henry Selick’s first movie since 2009’s Coraline. His fifth stop-motion masterpiece.',\n",
       " \"With a cast that reads like the Vogue Oscar party guest list, Valentine's Day should have been can't-miss cinema instead of standard Hollywood schmaltz.\",\n",
       " \"Creed II does not give us anything but another, slightly superior Rocky sequel. It wins on points. Just don't expect a knockout.\",\n",
       " \"I know what you're thinking, but this is no Limitless (Bradley Cooper). As the cells multiply and Lucy taps into more and more of her brain, it's new thrills-new skills with each passing hour.\",\n",
       " 'Director Fernando Meirelles tells the story with urgency, and his sharp visual compositions and washed out cinematography ooze gangster life.']"
      ]
     },
     "execution_count": 15,
     "metadata": {},
     "output_type": "execute_result"
    }
   ],
   "source": [
    "df[\"reviewText\"][:5].to_list()"
   ]
  },
  {
   "cell_type": "markdown",
   "id": "c957e547",
   "metadata": {},
   "source": [
    "#### pre_process"
   ]
  },
  {
   "cell_type": "code",
   "execution_count": 16,
   "id": "65c8c311",
   "metadata": {},
   "outputs": [
    {
     "data": {
      "text/plain": [
       "['henry selicks first movie since 2009s coraline fifth stopmotion masterpiece',\n",
       " 'cast read like vogue oscar party guest list valentine day cantmiss cinema instead standard hollywood schmaltz',\n",
       " 'creed ii give u anything another slightly superior rocky sequel win point nt expect knockout',\n",
       " 'know thinking limitless bradley cooper cell multiply lucy tap brain new thrillsnew skill passing hour',\n",
       " 'director fernando meirelles tell story urgency sharp visual composition washed cinematography ooze gangster life']"
      ]
     },
     "execution_count": 16,
     "metadata": {},
     "output_type": "execute_result"
    }
   ],
   "source": [
    "[pre_process(text) for text in df[\"reviewText\"][:5]]\n"
   ]
  }
 ],
 "metadata": {
  "kernelspec": {
   "display_name": "for_quick_sentiments",
   "language": "python",
   "name": "python3"
  },
  "language_info": {
   "codemirror_mode": {
    "name": "ipython",
    "version": 3
   },
   "file_extension": ".py",
   "mimetype": "text/x-python",
   "name": "python",
   "nbconvert_exporter": "python",
   "pygments_lexer": "ipython3",
   "version": "3.11.13"
  }
 },
 "nbformat": 4,
 "nbformat_minor": 5
}
