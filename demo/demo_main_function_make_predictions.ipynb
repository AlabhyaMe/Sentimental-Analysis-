{
 "cells": [
  {
   "cell_type": "markdown",
   "id": "6eb6602e",
   "metadata": {},
   "source": [
    "## Main Fucntion: make_predictions"
   ]
  },
  {
   "cell_type": "markdown",
   "id": "c0c5fe71",
   "metadata": {},
   "source": [
    "`make_predictions` is the third main function to run the whole pipeline. When the data is cleaned with `pre_process`, it can be passed to `run_pipeline`. The `run_pipeline` function will return few values, including the model, vectorizer, vector representation, accuracy. The `make_predictions` function will use these values to make predictions on new data and return a `polars` DataFrame with the predictions."
   ]
  },
  {
   "cell_type": "code",
   "execution_count": 1,
   "id": "017eecc1",
   "metadata": {},
   "outputs": [],
   "source": [
    "import polars as pl\n",
    "df = pl.read_csv(\"training_data/train.csv\", encoding=\"utf-8\")\n",
    "df = df[1:500]"
   ]
  },
  {
   "cell_type": "code",
   "execution_count": 3,
   "id": "7cf724bb",
   "metadata": {},
   "outputs": [],
   "source": [
    "from quick_sentiments import pre_process\n",
    "from quick_sentiments import run_pipeline\n",
    "from quick_sentiments import make_predictions\n"
   ]
  },
  {
   "cell_type": "code",
   "execution_count": 4,
   "id": "aa1e133e",
   "metadata": {},
   "outputs": [],
   "source": [
    "response_column = \"reviewText\" \n",
    "sentiment_column = \"sentiment\"\n",
    "df = df.with_columns(\n",
    "    pl.col(response_column).map_elements(lambda x: pre_process(x, remove_brackets=True)).alias(\"processed\")  #add inside the map_elements\n",
    ")"
   ]
  },
  {
   "cell_type": "markdown",
   "id": "273974dd",
   "metadata": {},
   "source": [
    "After pre-processing the data, suppose we run the pipeline with 'BOW' as the vectorization method and 'LogisticRegression' as the machine learning method. The `run_pipeline` function will return the model, vectorizer, vector representation, and accuracy."
   ]
  },
  {
   "cell_type": "code",
   "execution_count": 15,
   "id": "e3c7f8b5",
   "metadata": {},
   "outputs": [
    {
     "name": "stdout",
     "output_type": "stream",
     "text": [
      "--- Running Pipeline for Wv + Logit ---\n",
      "WARNING: Dropped 14 rows due to missing values (None) in 'processed' or 'sentiment' columns. Original rows: 499, Rows after dropping: 485\n",
      "Labels encoded: Original -> ['NEGATIVE' 'POSITIVE'], Encoded -> [0 1]\n",
      "1. Vectorizing entire dataset (X)...\n",
      "Using already loaded Word2Vec model.\n",
      "2. Splitting data into train/test...\n",
      "3. Training and predicting...\n",
      "   - Training Logistic Regression with default parameters (no hyperparameter tuning)...\n",
      "   - Model trained with default parameters.\n",
      "Best model parameters: {'C': 1.0, 'class_weight': None, 'dual': False, 'fit_intercept': True, 'intercept_scaling': 1, 'l1_ratio': None, 'max_iter': 100, 'multi_class': 'deprecated', 'n_jobs': None, 'penalty': 'l2', 'random_state': 42, 'solver': 'lbfgs', 'tol': 0.0001, 'verbose': 0, 'warm_start': False}\n",
      "4. Evaluating model...\n",
      "\n",
      "Classification Report:\n",
      "              precision    recall  f1-score   support\n",
      "\n",
      "    NEGATIVE       0.70      0.42      0.53        33\n",
      "    POSITIVE       0.75      0.91      0.82        64\n",
      "\n",
      "    accuracy                           0.74        97\n",
      "   macro avg       0.73      0.67      0.68        97\n",
      "weighted avg       0.74      0.74      0.72        97\n",
      "\n",
      "True labels distribution: Counter({1: 64, 0: 33})\n",
      "Predicted labels distribution: Counter({1: 77, 0: 20})\n"
     ]
    }
   ],
   "source": [
    "dt= run_pipeline(\n",
    "    vectorizer_name=\"wv\", # BOW, tf, tfidf, wv\n",
    "    model_name=\"logit\", # logit, rf, XGB .#XGB takes long time, can not recommend using it on normal case\n",
    "    df=df,\n",
    "    text_column_name=\"processed\",  # this is the column name of the text data, \n",
    "    sentiment_column_name = \"sentiment\",\n",
    "    perform_tuning = False# make this true if you want to perform hyperparameter tuning, it will take longer time and \n",
    "                            # may run out of memory if the dataset is large,\n",
    ")"
   ]
  },
  {
   "cell_type": "markdown",
   "id": "1e4ee349",
   "metadata": {},
   "source": [
    "Now, based on the best accuracy, we can select the model and vectorizer to make predictions on new data. The `make_predictions` function will take the model, vectorizer, and new data as input and return a DataFrame with the predictions."
   ]
  },
  {
   "cell_type": "code",
   "execution_count": 19,
   "id": "9986c1d9",
   "metadata": {},
   "outputs": [],
   "source": [
    "new_data = pl.read_csv(\"new_data/test.csv\",encoding='ISO-8859-1')\n",
    "new_data = new_data[1:250]\n",
    "new_data = new_data.with_columns(\n",
    "    pl.col(response_column).map_elements(lambda x: pre_process(x, remove_brackets=True)).alias(\"processed\")  #add inside the map_elements\n",
    ")"
   ]
  },
  {
   "cell_type": "markdown",
   "id": "f30bb21a",
   "metadata": {},
   "source": [
    "#### make_predictions\n"
   ]
  },
  {
   "cell_type": "code",
   "execution_count": 20,
   "id": "3cd6953a",
   "metadata": {},
   "outputs": [
    {
     "data": {
      "text/html": [
       "<div><style>\n",
       ".dataframe > thead > tr,\n",
       ".dataframe > tbody > tr {\n",
       "  text-align: right;\n",
       "  white-space: pre-wrap;\n",
       "}\n",
       "</style>\n",
       "<small>shape: (237, 6)</small><table border=\"1\" class=\"dataframe\"><thead><tr><th>movieid</th><th>reviewerName</th><th>isTopCritic</th><th>reviewText</th><th>processed</th><th>sentiment_predictions</th></tr><tr><td>str</td><td>str</td><td>bool</td><td>str</td><td>str</td><td>str</td></tr></thead><tbody><tr><td>&quot;terminator_kat…</td><td>&quot;Brian Chaney&quot;</td><td>false</td><td>&quot;Philip Noyce&#x27;s…</td><td>&quot;philip noyce d…</td><td>&quot;POSITIVE&quot;</td></tr><tr><td>&quot;james_bond_lab…</td><td>&quot;Danielle Parke…</td><td>false</td><td>&quot;It wouldn&#x27;t do…</td><td>&quot;would nt say p…</td><td>&quot;POSITIVE&quot;</td></tr><tr><td>&quot;v_quest_han_so…</td><td>&quot;Brittany Lane&quot;</td><td>false</td><td>&quot;Pig is not exa…</td><td>&quot;pig exactly ar…</td><td>&quot;POSITIVE&quot;</td></tr><tr><td>&quot;enigma_hulk_su…</td><td>&quot;Justin Willis&quot;</td><td>false</td><td>&quot;An imaginative…</td><td>&quot;imaginative no…</td><td>&quot;POSITIVE&quot;</td></tr><tr><td>&quot;infinite_elega…</td><td>&quot;Carla Guzman&quot;</td><td>false</td><td>&quot;Life happens..…</td><td>&quot;life happens l…</td><td>&quot;POSITIVE&quot;</td></tr><tr><td>&quot;travis_bickle_…</td><td>&quot;Kathy Wade&quot;</td><td>false</td><td>&quot;You can&#x27;t hire…</td><td>&quot;ca nt hire jud…</td><td>&quot;POSITIVE&quot;</td></tr><tr><td>&quot;jack_torrance_…</td><td>&quot;Diana Black&quot;</td><td>false</td><td>&quot;certainly riva…</td><td>&quot;certainly riva…</td><td>&quot;POSITIVE&quot;</td></tr><tr><td>&quot;rick_blaine_ne…</td><td>&quot;Hunter Castill…</td><td>false</td><td>&quot;&amp;apos;Avatar&amp;a…</td><td>&quot;apos avatar ap…</td><td>&quot;POSITIVE&quot;</td></tr><tr><td>&quot;the_joker_hann…</td><td>&quot;Shawn Bautista…</td><td>false</td><td>&quot;Rock of Ages i…</td><td>&quot;rock age sound…</td><td>&quot;POSITIVE&quot;</td></tr><tr><td>&quot;gandalf_the_gr…</td><td>&quot;Tara Rich&quot;</td><td>false</td><td>&quot;It might just …</td><td>&quot;might ultimate…</td><td>&quot;POSITIVE&quot;</td></tr><tr><td>&quot;forrest_gump_a…</td><td>&quot;Christopher Be…</td><td>true</td><td>&quot;What do the Ja…</td><td>&quot;james bond ser…</td><td>&quot;POSITIVE&quot;</td></tr><tr><td>&quot;jason_bourne_n…</td><td>&quot;Danielle Jimen…</td><td>false</td><td>&quot;Director Jenni…</td><td>&quot;director jenni…</td><td>&quot;POSITIVE&quot;</td></tr><tr><td>&hellip;</td><td>&hellip;</td><td>&hellip;</td><td>&hellip;</td><td>&hellip;</td><td>&hellip;</td></tr><tr><td>&quot;darth_vader_ga…</td><td>&quot;Pamela Harmon&quot;</td><td>false</td><td>&quot;With all the n…</td><td>&quot;nuance fist gr…</td><td>&quot;POSITIVE&quot;</td></tr><tr><td>&quot;john_mcclane_r…</td><td>&quot;Kenneth Gutier…</td><td>true</td><td>&quot;Kids are certa…</td><td>&quot;kid certain lo…</td><td>&quot;POSITIVE&quot;</td></tr><tr><td>&quot;rocky_balboa_s…</td><td>&quot;Kenneth Parker…</td><td>true</td><td>&quot;My Best Friend…</td><td>&quot;best friend sw…</td><td>&quot;POSITIVE&quot;</td></tr><tr><td>&quot;hannibal_lecte…</td><td>&quot;Deborah Swanso…</td><td>true</td><td>&quot;Ablaze with a …</td><td>&quot;ablaze raft vi…</td><td>&quot;POSITIVE&quot;</td></tr><tr><td>&quot;celestial_chro…</td><td>&quot;Angel Rosales&quot;</td><td>false</td><td>&quot;Why him? More …</td><td>&quot;like&quot;</td><td>&quot;NEGATIVE&quot;</td></tr><tr><td>&quot;epic_wondrous_…</td><td>&quot;James Newman&quot;</td><td>false</td><td>&quot;It&#x27;s an unsett…</td><td>&quot;unsettling pic…</td><td>&quot;POSITIVE&quot;</td></tr><tr><td>&quot;enchant_katnis…</td><td>&quot;Bridget Bennet…</td><td>false</td><td>&quot;It takes a jui…</td><td>&quot;take juicy pre…</td><td>&quot;POSITIVE&quot;</td></tr><tr><td>&quot;whisper_james_…</td><td>&quot;Mr. Joel Buckl…</td><td>true</td><td>&quot;While there ar…</td><td>&quot;moment effecti…</td><td>&quot;POSITIVE&quot;</td></tr><tr><td>&quot;ethereal_ferri…</td><td>&quot;Craig Acosta&quot;</td><td>false</td><td>&quot;Was Oscar Gran…</td><td>&quot;oscar grant go…</td><td>&quot;NEGATIVE&quot;</td></tr><tr><td>&quot;island_rick_bl…</td><td>&quot;Christine Dunc…</td><td>false</td><td>&quot;This sense of …</td><td>&quot;sense artifice…</td><td>&quot;POSITIVE&quot;</td></tr><tr><td>&quot;astonish_vito_…</td><td>&quot;Rachel Mills D…</td><td>true</td><td>&quot;&quot;56 Up&quot; remind…</td><td>&quot;56 reminds u c…</td><td>&quot;POSITIVE&quot;</td></tr><tr><td>&quot;whisper_rick_b…</td><td>&quot;Kristy Ferguso…</td><td>false</td><td>&quot;At once homage…</td><td>&quot;homage sendup …</td><td>&quot;POSITIVE&quot;</td></tr></tbody></table></div>"
      ],
      "text/plain": [
       "shape: (237, 6)\n",
       "┌────────────────┬────────────────┬─────────────┬────────────────┬────────────────┬────────────────┐\n",
       "│ movieid        ┆ reviewerName   ┆ isTopCritic ┆ reviewText     ┆ processed      ┆ sentiment_pred │\n",
       "│ ---            ┆ ---            ┆ ---         ┆ ---            ┆ ---            ┆ ictions        │\n",
       "│ str            ┆ str            ┆ bool        ┆ str            ┆ str            ┆ ---            │\n",
       "│                ┆                ┆             ┆                ┆                ┆ str            │\n",
       "╞════════════════╪════════════════╪═════════════╪════════════════╪════════════════╪════════════════╡\n",
       "│ terminator_kat ┆ Brian Chaney   ┆ false       ┆ Philip Noyce's ┆ philip noyce   ┆ POSITIVE       │\n",
       "│ niss_everdeen_ ┆                ┆             ┆ direction is   ┆ direction      ┆                │\n",
       "│ glim…          ┆                ┆             ┆ eleg…          ┆ elegant u…     ┆                │\n",
       "│ james_bond_lab ┆ Danielle       ┆ false       ┆ It wouldn't do ┆ would nt say   ┆ POSITIVE       │\n",
       "│ yrinth_gollum  ┆ Parker         ┆             ┆ to say what    ┆ path maria     ┆                │\n",
       "│                ┆                ┆             ┆ path …         ┆ ultimate…      ┆                │\n",
       "│ v_quest_han_so ┆ Brittany Lane  ┆ false       ┆ Pig is not     ┆ pig exactly    ┆ POSITIVE       │\n",
       "│ lo_wondrous    ┆                ┆             ┆ exactly the    ┆ arthouse john  ┆                │\n",
       "│                ┆                ┆             ┆ arthouse …     ┆ wick s…        ┆                │\n",
       "│ enigma_hulk_su ┆ Justin Willis  ┆ false       ┆ An imaginative ┆ imaginative    ┆ POSITIVE       │\n",
       "│ rreal_starligh ┆                ┆             ┆ no-budget      ┆ nobudget       ┆                │\n",
       "│ t              ┆                ┆             ┆ musical…       ┆ musical sor…   ┆                │\n",
       "│ …              ┆ …              ┆ …           ┆ …              ┆ …              ┆ …              │\n",
       "│ ethereal_ferri ┆ Craig Acosta   ┆ false       ┆ Was Oscar      ┆ oscar grant    ┆ NEGATIVE       │\n",
       "│ s_bueller_myri ┆                ┆             ┆ Grant going to ┆ going turn     ┆                │\n",
       "│ ad_t…          ┆                ┆             ┆ turn hi…       ┆ life arou…     ┆                │\n",
       "│ island_rick_bl ┆ Christine      ┆ false       ┆ This sense of  ┆ sense artifice ┆ POSITIVE       │\n",
       "│ aine_valley_ja ┆ Duncan         ┆             ┆ artifice       ┆ highlight      ┆                │\n",
       "│ ck_s…          ┆                ┆             ┆ highlight…     ┆ awkward…       ┆                │\n",
       "│ astonish_vito_ ┆ Rachel Mills   ┆ true        ┆ \"56 Up\"        ┆ 56 reminds u   ┆ POSITIVE       │\n",
       "│ corleone_ether ┆ DVM            ┆             ┆ reminds us     ┆ change         ┆                │\n",
       "│ eal_…          ┆                ┆             ┆ that change i… ┆ ceaseless of…  ┆                │\n",
       "│ whisper_rick_b ┆ Kristy         ┆ false       ┆ At once homage ┆ homage sendup  ┆ POSITIVE       │\n",
       "│ laine_valiant  ┆ Ferguson       ┆             ┆ and            ┆ genially goofy ┆                │\n",
       "│                ┆                ┆             ┆ send-up...a g… ┆ oat…           ┆                │\n",
       "└────────────────┴────────────────┴─────────────┴────────────────┴────────────────┴────────────────┘"
      ]
     },
     "execution_count": 20,
     "metadata": {},
     "output_type": "execute_result"
    }
   ],
   "source": [
    "make_predictions(\n",
    "    new_data=new_data,\n",
    "    text_column_name=\"processed\",\n",
    "    vectorizer=dt[\"vectorizer_object\"],\n",
    "    best_model=dt[\"model_object\"],\n",
    "    label_encoder=dt[\"label_encoder\"],\n",
    "    prediction_column_name=\"sentiment_predictions\"  # Optional custom name\n",
    ")"
   ]
  }
 ],
 "metadata": {
  "kernelspec": {
   "display_name": "quick_sentiments",
   "language": "python",
   "name": "python3"
  },
  "language_info": {
   "codemirror_mode": {
    "name": "ipython",
    "version": 3
   },
   "file_extension": ".py",
   "mimetype": "text/x-python",
   "name": "python",
   "nbconvert_exporter": "python",
   "pygments_lexer": "ipython3",
   "version": "3.11.13"
  }
 },
 "nbformat": 4,
 "nbformat_minor": 5
}
